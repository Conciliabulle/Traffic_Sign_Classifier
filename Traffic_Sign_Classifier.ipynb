{
 "cells": [
  {
   "cell_type": "markdown",
   "metadata": {},
   "source": [
    "# Self-Driving Car Engineer Nanodegree\n",
    "\n",
    "## Deep Learning\n",
    "\n",
    "## Project: Build a Traffic Sign Recognition Classifier\n",
    "\n",
    "In this notebook, a template is provided for you to implement your functionality in stages, which is required to successfully complete this project. If additional code is required that cannot be included in the notebook, be sure that the Python code is successfully imported and included in your submission if necessary. \n",
    "\n",
    "> **Note**: Once you have completed all of the code implementations, you need to finalize your work by exporting the iPython Notebook as an HTML document. Before exporting the notebook to html, all of the code cells need to have been run so that reviewers can see the final implementation and output. You can then export the notebook by using the menu above and navigating to  \\n\",\n",
    "    \"**File -> Download as -> HTML (.html)**. Include the finished document along with this notebook as your submission. \n",
    "\n",
    "In addition to implementing code, there is a writeup to complete. The writeup should be completed in a separate file, which can be either a markdown file or a pdf document. There is a [write up template](https://github.com/udacity/CarND-Traffic-Sign-Classifier-Project/blob/master/writeup_template.md) that can be used to guide the writing process. Completing the code template and writeup template will cover all of the [rubric points](https://review.udacity.com/#!/rubrics/481/view) for this project.\n",
    "\n",
    "The [rubric](https://review.udacity.com/#!/rubrics/481/view) contains \"Stand Out Suggestions\" for enhancing the project beyond the minimum requirements. The stand out suggestions are optional. If you decide to pursue the \"stand out suggestions\", you can include the code in this Ipython notebook and also discuss the results in the writeup file.\n",
    "\n",
    "\n",
    ">**Note:** Code and Markdown cells can be executed using the **Shift + Enter** keyboard shortcut. In addition, Markdown cells can be edited by typically double-clicking the cell to enter edit mode."
   ]
  },
  {
   "cell_type": "markdown",
   "metadata": {},
   "source": [
    "---\n",
    "## Step 0: Load The Data"
   ]
  },
  {
   "cell_type": "code",
   "execution_count": 1,
   "metadata": {
    "collapsed": true
   },
   "outputs": [],
   "source": [
    "# Load pickled data\n",
    "import pickle\n",
    "import numpy as np\n",
    "import pandas as pd\n",
    "import matplotlib.pyplot as plt\n",
    "\n",
    "# TODO: Fill this in based on where you saved the training and testing data\n",
    "\n",
    "training_file = \"train.p\"\n",
    "validation_file= \"valid.p\"\n",
    "testing_file = \"test.p\"\n",
    "\n",
    "with open(training_file, mode='rb') as f:\n",
    "    train = pickle.load(f)\n",
    "with open(validation_file, mode='rb') as f:\n",
    "    valid = pickle.load(f)\n",
    "with open(testing_file, mode='rb') as f:\n",
    "    test = pickle.load(f)\n",
    "    \n",
    "X_train, y_train = train['features'], train['labels']\n",
    "X_valid, y_valid = valid['features'], valid['labels']\n",
    "X_test, y_test = test['features'], test['labels']"
   ]
  },
  {
   "cell_type": "markdown",
   "metadata": {},
   "source": [
    "---\n",
    "\n",
    "## Step 1: Dataset Summary & Exploration\n",
    "\n",
    "The pickled data is a dictionary with 4 key/value pairs:\n",
    "\n",
    "- `'features'` is a 4D array containing raw pixel data of the traffic sign images, (num examples, width, height, channels).\n",
    "- `'labels'` is a 1D array containing the label/class id of the traffic sign. The file `signnames.csv` contains id -> name mappings for each id.\n",
    "- `'sizes'` is a list containing tuples, (width, height) representing the original width and height the image.\n",
    "- `'coords'` is a list containing tuples, (x1, y1, x2, y2) representing coordinates of a bounding box around the sign in the image. **THESE COORDINATES ASSUME THE ORIGINAL IMAGE. THE PICKLED DATA CONTAINS RESIZED VERSIONS (32 by 32) OF THESE IMAGES**\n",
    "\n",
    "Complete the basic data summary below. Use python, numpy and/or pandas methods to calculate the data summary rather than hard coding the results. For example, the [pandas shape method](http://pandas.pydata.org/pandas-docs/stable/generated/pandas.DataFrame.shape.html) might be useful for calculating some of the summary results. "
   ]
  },
  {
   "cell_type": "markdown",
   "metadata": {},
   "source": [
    "### Provide a Basic Summary of the Data Set Using Python, Numpy and/or Pandas"
   ]
  },
  {
   "cell_type": "code",
   "execution_count": 2,
   "metadata": {},
   "outputs": [
    {
     "name": "stdout",
     "output_type": "stream",
     "text": [
      "Number of training examples = 34799\n",
      "Number of testing examples = 12630\n",
      "Number of validation examples = 4410\n",
      "Image data shape = (32, 32)\n",
      "Number of classes = (43,)\n"
     ]
    }
   ],
   "source": [
    "### Replace each question mark with the appropriate value. \n",
    "### Use python, pandas or numpy methods rather than hard coding the results\n",
    "\n",
    "# TODO: Number of training examples\n",
    "n_train = np.shape(X_train)[0]\n",
    "\n",
    "# TODO: Number of validation examples\n",
    "n_validation = np.shape(X_valid)[0]\n",
    "\n",
    "# TODO: Number of testing examples.\n",
    "n_test = np.shape(X_test)[0]\n",
    "\n",
    "# TODO: What's the shape of an traffic sign image?\n",
    "image_shape = (np.shape(X_train)[1],np.shape(X_train)[2])\n",
    "\n",
    "# TODO: How many unique classes/labels there are in the dataset.\n",
    "df = pd.unique(pd.Series(y_test))\n",
    "n_classes = np.shape(df)\n",
    "\n",
    "print(\"Number of training examples =\", n_train)\n",
    "print(\"Number of testing examples =\", n_test)\n",
    "print(\"Number of validation examples =\", n_validation)\n",
    "print(\"Image data shape =\", image_shape)\n",
    "print(\"Number of classes =\", n_classes)"
   ]
  },
  {
   "cell_type": "code",
   "execution_count": 9,
   "metadata": {},
   "outputs": [
    {
     "data": {
      "text/plain": [
       "<matplotlib.text.Text at 0x7fb10ea35668>"
      ]
     },
     "execution_count": 9,
     "metadata": {},
     "output_type": "execute_result"
    },
    {
     "data": {
      "image/png": "[encoded data removed]",
      "text/plain": [
       "<matplotlib.figure.Figure at 0x7fb10e91e588>"
      ]
     },
     "metadata": {},
     "output_type": "display_data"
    }
   ],
   "source": [
    "series=pd.Series(y_train)\n",
    "count, division = np.histogram(series, bins=range(0,43))\n",
    "hist = series.hist(bins=division)\n",
    "hist.set_xlabel(\"Traffic sign label\")\n",
    "hist.set_ylabel(\"Total number in the training data set\")"
   ]
  },
  {
   "cell_type": "markdown",
   "metadata": {},
   "source": [
    "### Include an exploratory visualization of the dataset"
   ]
  },
  {
   "cell_type": "markdown",
   "metadata": {},
   "source": [
    "Visualize the German Traffic Signs Dataset using the pickled file(s). This is open ended, suggestions include: plotting traffic sign images, plotting the count of each sign, etc. \n",
    "\n",
    "The [Matplotlib](http://matplotlib.org/) [examples](http://matplotlib.org/examples/index.html) and [gallery](http://matplotlib.org/gallery.html) pages are a great resource for doing visualizations in Python.\n",
    "\n",
    "**NOTE:** It's recommended you start with something simple first. If you wish to do more, come back to it after you've completed the rest of the sections. It can be interesting to look at the distribution of classes in the training, validation and test set. Is the distribution the same? Are there more examples of some classes than others?"
   ]
  },
  {
   "cell_type": "code",
   "execution_count": 6,
   "metadata": {},
   "outputs": [
    {
     "data": {
      "text/plain": [
       "<matplotlib.image.AxesImage at 0x7fb10ee19cc0>"
      ]
     },
     "execution_count": 6,
     "metadata": {},
     "output_type": "execute_result"
    },
    {
     "data": {
      "image/png": "[encoded data removed]",
      "text/plain": [
       "<matplotlib.figure.Figure at 0x7fb149a81630>"
      ]
     },
     "metadata": {},
     "output_type": "display_data"
    }
   ],
   "source": [
    "### Data exploration visualization code goes here.\n",
    "### Feel free to use as many code cells as needed.\n",
    "import random\n",
    "# Visualizations will be shown in the notebook.\n",
    "%matplotlib inline\n",
    "\n",
    "# Choose random \n",
    "random.seed(a=None)\n",
    "index = random.randint(0, n_train)\n",
    "image = X_train[index].squeeze()\n",
    "\n",
    "plt.figure(figsize=(1,1))\n",
    "plt.title('Traffic sign number: %s' %(y_train[index]))\n",
    "plt.imshow(image)\n",
    "\n"
   ]
  },
  {
   "cell_type": "code",
   "execution_count": 4,
   "metadata": {
    "collapsed": true
   },
   "outputs": [],
   "source": [
    "from sklearn.utils import shuffle\n",
    "\n",
    "X_train, y_train = shuffle(X_train, y_train)"
   ]
  },
  {
   "cell_type": "markdown",
   "metadata": {},
   "source": [
    "----\n",
    "\n",
    "## Step 2: Design and Test a Model Architecture\n",
    "\n",
    "Design and implement a deep learning model that learns to recognize traffic signs. Train and test your model on the [German Traffic Sign Dataset](http://benchmark.ini.rub.de/?section=gtsrb&subsection=dataset).\n",
    "\n",
    "The LeNet-5 implementation shown in the [classroom](https://classroom.udacity.com/nanodegrees/nd013/parts/fbf77062-5703-404e-b60c-95b78b2f3f9e/modules/6df7ae49-c61c-4bb2-a23e-6527e69209ec/lessons/601ae704-1035-4287-8b11-e2c2716217ad/concepts/d4aca031-508f-4e0b-b493-e7b706120f81) at the end of the CNN lesson is a solid starting point. You'll have to change the number of classes and possibly the preprocessing, but aside from that it's plug and play! \n",
    "\n",
    "With the LeNet-5 solution from the lecture, you should expect a validation set accuracy of about 0.89. To meet specifications, the validation set accuracy will need to be at least 0.93. It is possible to get an even higher accuracy, but 0.93 is the minimum for a successful project submission. \n",
    "\n",
    "There are various aspects to consider when thinking about this problem:\n",
    "\n",
    "- Neural network architecture (is the network over or underfitting?)\n",
    "- Play around preprocessing techniques (normalization, rgb to grayscale, etc)\n",
    "- Number of examples per label (some have more than others).\n",
    "- Generate fake data.\n",
    "\n",
    "Here is an example of a [published baseline model on this problem](http://yann.lecun.com/exdb/publis/pdf/sermanet-ijcnn-11.pdf). It's not required to be familiar with the approach used in the paper but, it's good practice to try to read papers like these."
   ]
  },
  {
   "cell_type": "code",
   "execution_count": 5,
   "metadata": {
    "collapsed": true
   },
   "outputs": [],
   "source": [
    "# idea for accuracy improvement:\n",
    "#   - denoising 5for ex 5x5 gaussian filter (https://openreview.net/pdf?id=SkgbhoyC)\n",
    "#   - dropping technic\n",
    "#   - reusing first featutres in classification stage\n",
    "#   - test with rgb to gray scale conversion with average method vs weight method: https://samarthbhargav.wordpress.com/2014/05/05/image-processing-with-python-rgb-to-grayscale-conversion/\n",
    "# https://navoshta.com/traffic-signs-classification/\n",
    "# https://www169.lunapic.com/editor/\n"
   ]
  },
  {
   "cell_type": "markdown",
   "metadata": {},
   "source": [
    "### Pre-process the Data Set (normalization, grayscale, etc.)"
   ]
  },
  {
   "cell_type": "markdown",
   "metadata": {},
   "source": [
    "Minimally, the image data should be normalized so that the data has mean zero and equal variance. For image data, `(pixel - 128)/ 128` is a quick way to approximately normalize the data and can be used in this project. \n",
    "\n",
    "Other pre-processing steps are optional. You can try different techniques to see if it improves performance. \n",
    "\n",
    "Use the code cell (or multiple code cells, if necessary) to implement the first step of your project."
   ]
  },
  {
   "cell_type": "code",
   "execution_count": 6,
   "metadata": {},
   "outputs": [
    {
     "name": "stdout",
     "output_type": "stream",
     "text": [
      "Dimensions of RGB image are:  (32, 32, 3)\n",
      "Dimensions of gray image are:  (32, 32)\n"
     ]
    },
    {
     "data": {
      "image/png": "[encoded data removed]",
      "text/plain": [
       "<matplotlib.figure.Figure at 0x7f8d73305908>"
      ]
     },
     "metadata": {},
     "output_type": "display_data"
    }
   ],
   "source": [
    "### Preprocess the data here. It is required to normalize the data. Other preprocessing steps could include \n",
    "### converting to grayscale, etc.\n",
    "### Feel free to use as many code cells as needed.\n",
    "\n",
    "# Shuffle the training data\n",
    "#from sklearn.utils import shuffle\n",
    "#X_train, y_train = shuffle(X_train, y_train)\n",
    "\n",
    "import cv2  #bringing in OpenCV libraries\n",
    "\n",
    "def gray_scale(image):\n",
    "    grey = cv2.cvtColor(image, cv2.COLOR_RGB2GRAY)\n",
    "    return grey\n",
    "\n",
    "# Conversion to gray scale and conversion of the sample image\n",
    "X_train_sample_g = gray_scale(X_train[index])\n",
    "plt.figure(figsize=(1,1))\n",
    "plt.imshow(X_train_sample_g, cmap=\"gray\")\n",
    "print('Dimensions of RGB image are: ', np.shape(X_train[index]))\n",
    "print('Dimensions of gray image are: ', np.shape(X_train_sample_g))\n"
   ]
  },
  {
   "cell_type": "code",
   "execution_count": 7,
   "metadata": {},
   "outputs": [
    {
     "name": "stdout",
     "output_type": "stream",
     "text": [
      "Sample image before normalisation\n",
      "[[[23 23 28]\n",
      "  [24 24 29]\n",
      "  [23 24 29]\n",
      "  ..., \n",
      "  [51 57 66]\n",
      "  [55 61 68]\n",
      "  [47 54 58]]\n",
      "\n",
      " [[23 23 28]\n",
      "  [24 24 29]\n",
      "  [24 24 29]\n",
      "  ..., \n",
      "  [51 58 67]\n",
      "  [55 61 68]\n",
      "  [47 53 57]]\n",
      "\n",
      " [[25 24 29]\n",
      "  [23 23 28]\n",
      "  [23 23 28]\n",
      "  ..., \n",
      "  [50 57 63]\n",
      "  [54 60 65]\n",
      "  [47 52 55]]\n",
      "\n",
      " ..., \n",
      " [[26 24 28]\n",
      "  [26 25 29]\n",
      "  [27 26 29]\n",
      "  ..., \n",
      "  [49 57 60]\n",
      "  [47 53 56]\n",
      "  [44 49 53]]\n",
      "\n",
      " [[27 25 29]\n",
      "  [28 27 30]\n",
      "  [29 28 30]\n",
      "  ..., \n",
      "  [50 57 59]\n",
      "  [47 53 55]\n",
      "  [43 48 52]]\n",
      "\n",
      " [[28 25 29]\n",
      "  [27 26 29]\n",
      "  [27 27 30]\n",
      "  ..., \n",
      "  [48 55 58]\n",
      "  [45 51 53]\n",
      "  [41 46 49]]]\n"
     ]
    }
   ],
   "source": [
    "print('Sample image before normalisation')\n",
    "print(X_train[index])"
   ]
  },
  {
   "cell_type": "code",
   "execution_count": 8,
   "metadata": {},
   "outputs": [
    {
     "name": "stdout",
     "output_type": "stream",
     "text": [
      "(34799, 32, 32, 1)\n"
     ]
    }
   ],
   "source": [
    "# conversion of the data sets to gray scale\n",
    "X_train_g=[]\n",
    "for image_ind in range(0,n_train):\n",
    "    temp = gray_scale(X_train[image_ind][:][:])\n",
    "    X_train_g.append(np.subtract(temp,128,dtype=np.signedinteger)/128)\n",
    "    \n",
    "X_train = np.expand_dims(X_train_g,3)\n",
    "print(np.shape(X_train))\n"
   ]
  },
  {
   "cell_type": "code",
   "execution_count": 9,
   "metadata": {},
   "outputs": [
    {
     "name": "stdout",
     "output_type": "stream",
     "text": [
      "(4410, 32, 32, 1)\n"
     ]
    }
   ],
   "source": [
    "X_valid_g=[]\n",
    "for image_ind in range(0,n_validation):\n",
    "    temp = gray_scale(X_valid[image_ind][:][:])\n",
    "    X_valid_g.append(np.subtract(temp,128,dtype=np.signedinteger)/128)\n",
    "X_valid=np.expand_dims(X_valid_g,3)\n",
    "print(np.shape(X_valid))\n",
    "\n",
    "X_test_g=[]\n",
    "for image_ind in range(0,n_test):\n",
    "    temp = gray_scale(X_test[image_ind][:][:])\n",
    "    X_test_g.append(np.subtract(temp,128,dtype=np.signedinteger)/128)\n",
    "X_test=np.expand_dims(X_test_g,3)\n"
   ]
  },
  {
   "cell_type": "code",
   "execution_count": 10,
   "metadata": {},
   "outputs": [
    {
     "name": "stdout",
     "output_type": "stream",
     "text": [
      "Sample image after normalisation\n",
      "[[[-0.8125   ]\n",
      "  [-0.8046875]\n",
      "  [-0.8125   ]\n",
      "  ..., \n",
      "  [-0.5625   ]\n",
      "  [-0.53125  ]\n",
      "  [-0.59375  ]]\n",
      "\n",
      " [[-0.8125   ]\n",
      "  [-0.8046875]\n",
      "  [-0.8046875]\n",
      "  ..., \n",
      "  [-0.5546875]\n",
      "  [-0.53125  ]\n",
      "  [-0.59375  ]]\n",
      "\n",
      " [[-0.8046875]\n",
      "  [-0.8125   ]\n",
      "  [-0.8125   ]\n",
      "  ..., \n",
      "  [-0.5625   ]\n",
      "  [-0.5390625]\n",
      "  [-0.6015625]]\n",
      "\n",
      " ..., \n",
      " [[-0.8046875]\n",
      "  [-0.796875 ]\n",
      "  [-0.7890625]\n",
      "  ..., \n",
      "  [-0.5703125]\n",
      "  [-0.59375  ]\n",
      "  [-0.625    ]]\n",
      "\n",
      " [[-0.796875 ]\n",
      "  [-0.78125  ]\n",
      "  [-0.7734375]\n",
      "  ..., \n",
      "  [-0.5703125]\n",
      "  [-0.6015625]\n",
      "  [-0.6328125]]\n",
      "\n",
      " [[-0.796875 ]\n",
      "  [-0.7890625]\n",
      "  [-0.7890625]\n",
      "  ..., \n",
      "  [-0.5859375]\n",
      "  [-0.6171875]\n",
      "  [-0.6484375]]]\n"
     ]
    }
   ],
   "source": [
    "# Verify the normalisation\n",
    "print('Sample image after normalisation')\n",
    "print(X_train[index])\n",
    "\n"
   ]
  },
  {
   "cell_type": "markdown",
   "metadata": {},
   "source": [
    "### Model Architecture"
   ]
  },
  {
   "cell_type": "code",
   "execution_count": 11,
   "metadata": {
    "collapsed": true
   },
   "outputs": [],
   "source": [
    "### Define your architecture here.\n",
    "### Feel free to use as many code cells as needed.\n",
    "\n",
    "import tensorflow as tf\n",
    "\n",
    "EPOCHS = 15\n",
    "BATCH_SIZE = 128\n",
    "\n",
    "from tensorflow.contrib.layers import flatten\n",
    "\n",
    "def MyNet(x, kprob):    \n",
    "    # Arguments used for tf.truncated_normal, randomly defines variables for the weights and biases for each layer\n",
    "    mu = 0\n",
    "    sigma = 0.1\n",
    "    \n",
    "    # Layer 1: Convolutional. Input = 32x32x1. Output = 28x28x10.\n",
    "    conv1_W = tf.Variable(tf.truncated_normal(shape=(5, 5, 1, 10), mean = mu, stddev = sigma))\n",
    "    conv1_b = tf.Variable(tf.zeros(10))\n",
    "    conv1   = tf.nn.conv2d(x, conv1_W, strides=[1, 1, 1, 1], padding='VALID') + conv1_b\n",
    "\n",
    "    # Activation.\n",
    "    conv1 = tf.nn.relu(conv1)\n",
    "\n",
    "    # Pooling. Input = 28x28x10. Output = 14x14x10.\n",
    "    conv1 = tf.nn.max_pool(conv1, ksize=[1, 2, 2, 1], strides=[1, 2, 2, 1], padding='VALID')\n",
    "\n",
    "    # Layer 2: Convolutional. Output = 10x10x30.\n",
    "    conv2_W = tf.Variable(tf.truncated_normal(shape=(5, 5, 10, 30), mean = mu, stddev = sigma))\n",
    "    conv2_b = tf.Variable(tf.zeros(30))\n",
    "    conv2   = tf.nn.conv2d(conv1, conv2_W, strides=[1, 1, 1, 1], padding='VALID') + conv2_b\n",
    "    \n",
    "    # Activation.\n",
    "    conv2 = tf.nn.relu(conv2)\n",
    "\n",
    "    # Pooling. Input = 10x10x30. Output = 5x5x30.\n",
    "    conv2 = tf.nn.max_pool(conv2, ksize=[1, 2, 2, 1], strides=[1, 2, 2, 1], padding='VALID')\n",
    "\n",
    "    # Flatten. Input = 5x5x30 + 14x14x10. Output = 2710\n",
    "    conv2=flatten(conv2)\n",
    "    conv1=flatten(conv1)\n",
    "    fc0   = tf.concat(1,[conv2,conv1])\n",
    "    \n",
    "    # Layer 3: Fully Connected. Input = 2710. Output = 500.\n",
    "    fc1_W = tf.Variable(tf.truncated_normal(shape=(2710, 500), mean = mu, stddev = sigma))\n",
    "    fc1_b = tf.Variable(tf.zeros(500))\n",
    "    fc1   = tf.matmul(fc0, fc1_W) + fc1_b\n",
    "    \n",
    "    # Activation.\n",
    "    fc1    = tf.nn.relu(fc1)\n",
    "\n",
    "    # Layer 4: Fully Connected. Input = 500. Output = 125.\n",
    "    fc2_W  = tf.Variable(tf.truncated_normal(shape=(500, 125), mean = mu, stddev = sigma))\n",
    "    fc2_b  = tf.Variable(tf.zeros(125))\n",
    "    fc2    = tf.matmul(fc1, fc2_W) + fc2_b\n",
    "    \n",
    "    # Activation.\n",
    "    fc2    = tf.nn.relu(fc2)\n",
    "    fc2    = tf.nn.dropout(fc2, kprob)\n",
    "\n",
    "    # Layer 5: Fully Connected. Input = 84. Output = '43 (n_classes)'.\n",
    "    fc3_W  = tf.Variable(tf.truncated_normal(shape=(125, 43), mean = mu, stddev = sigma))\n",
    "    fc3_b  = tf.Variable(tf.zeros(43))\n",
    "    logits = tf.matmul(fc2, fc3_W) + fc3_b\n",
    "    \n",
    "    return logits\n"
   ]
  },
  {
   "cell_type": "markdown",
   "metadata": {},
   "source": [
    "### Train, Validate and Test the Model"
   ]
  },
  {
   "cell_type": "markdown",
   "metadata": {},
   "source": [
    "A validation set can be used to assess how well the model is performing. A low accuracy on the training and validation\n",
    "sets imply underfitting. A high accuracy on the training set but low accuracy on the validation set implies overfitting."
   ]
  },
  {
   "cell_type": "code",
   "execution_count": 12,
   "metadata": {
    "collapsed": true
   },
   "outputs": [],
   "source": [
    "### Train your model here.\n",
    "### Calculate and report the accuracy on the training and validation set.\n",
    "### Once a final model architecture is selected, \n",
    "### the accuracy on the test set should be calculated and reported as well.\n",
    "### Feel free to use as many code cells as needed.\n",
    "\n",
    "x = tf.placeholder(tf.float32, (None, 32, 32, 1))\n",
    "y = tf.placeholder(tf.int32, (None))\n",
    "one_hot_y = tf.one_hot(y, 43)\n",
    "kprob = tf.placeholder(tf.float32) # probability to keep units\n",
    "\n",
    "\n",
    "rate = 0.001\n",
    "\n",
    "logits = MyNet(x, kprob)\n",
    "cross_entropy = tf.nn.softmax_cross_entropy_with_logits(labels=one_hot_y, logits=logits)\n",
    "loss_operation = tf.reduce_mean(cross_entropy)\n",
    "optimizer = tf.train.AdamOptimizer(learning_rate = rate)\n",
    "training_operation = optimizer.minimize(loss_operation)"
   ]
  },
  {
   "cell_type": "code",
   "execution_count": 13,
   "metadata": {
    "collapsed": true
   },
   "outputs": [],
   "source": [
    "# Model evaluation\n",
    "correct_prediction = tf.equal(tf.argmax(logits, 1), tf.argmax(one_hot_y, 1))\n",
    "accuracy_operation = tf.reduce_mean(tf.cast(correct_prediction, tf.float32))\n",
    "saver = tf.train.Saver()\n",
    "\n",
    "def evaluate(X_data, y_data):\n",
    "    num_examples = len(X_data)\n",
    "    total_accuracy = 0\n",
    "    sess = tf.get_default_session()\n",
    "    for offset in range(0, num_examples, BATCH_SIZE):\n",
    "        batch_x, batch_y = X_data[offset:offset+BATCH_SIZE], y_data[offset:offset+BATCH_SIZE]\n",
    "        accuracy = sess.run(accuracy_operation, feed_dict={x: batch_x, y: batch_y, kprob:1})\n",
    "        total_accuracy += (accuracy * len(batch_x))\n",
    "    return total_accuracy / num_examples"
   ]
  },
  {
   "cell_type": "code",
   "execution_count": 14,
   "metadata": {},
   "outputs": [
    {
     "name": "stdout",
     "output_type": "stream",
     "text": [
      "Training...\n",
      "\n",
      "EPOCH 1 ...\n",
      "Validation Accuracy = 0.844\n",
      "\n",
      "EPOCH 2 ...\n",
      "Validation Accuracy = 0.906\n",
      "\n",
      "EPOCH 3 ...\n",
      "Validation Accuracy = 0.918\n",
      "\n",
      "EPOCH 4 ...\n",
      "Validation Accuracy = 0.913\n",
      "\n",
      "EPOCH 5 ...\n",
      "Validation Accuracy = 0.935\n",
      "\n",
      "EPOCH 6 ...\n",
      "Validation Accuracy = 0.936\n",
      "\n",
      "EPOCH 7 ...\n",
      "Validation Accuracy = 0.927\n",
      "\n",
      "EPOCH 8 ...\n",
      "Validation Accuracy = 0.935\n",
      "\n",
      "EPOCH 9 ...\n",
      "Validation Accuracy = 0.937\n",
      "\n",
      "EPOCH 10 ...\n",
      "Validation Accuracy = 0.934\n",
      "\n",
      "EPOCH 11 ...\n",
      "Validation Accuracy = 0.937\n",
      "\n",
      "EPOCH 12 ...\n",
      "Validation Accuracy = 0.933\n",
      "\n",
      "EPOCH 13 ...\n",
      "Validation Accuracy = 0.929\n",
      "\n",
      "EPOCH 14 ...\n",
      "Validation Accuracy = 0.937\n",
      "\n",
      "EPOCH 15 ...\n",
      "Validation Accuracy = 0.938\n",
      "\n",
      "Model saved\n"
     ]
    }
   ],
   "source": [
    "# Run training\n",
    "from sklearn.utils import shuffle\n",
    "\n",
    "prob=0.5\n",
    "\n",
    "with tf.Session() as sess:\n",
    "    sess.run(tf.global_variables_initializer())\n",
    "    num_examples = len(X_train)\n",
    "    \n",
    "    print(\"Training...\")\n",
    "    print()\n",
    "    for i in range(EPOCHS):\n",
    "        X_train, y_train = shuffle(X_train, y_train)\n",
    "        for offset in range(0, num_examples, BATCH_SIZE):\n",
    "            end = offset + BATCH_SIZE\n",
    "            batch_x, batch_y = X_train[offset:end], y_train[offset:end]\n",
    "            sess.run(training_operation, feed_dict={x: batch_x, y: batch_y, kprob:prob})\n",
    "            \n",
    "        validation_accuracy = evaluate(X_test, y_test)\n",
    "        print(\"EPOCH {} ...\".format(i+1))\n",
    "        print(\"Validation Accuracy = {:.3f}\".format(validation_accuracy))\n",
    "        print()\n",
    "    #validation_accuracy = evaluate(X_valid, y_valid)\n",
    "    #print(\"Validation Accuracy on validation set = {:.3f}\".format(validation_accuracy))\n",
    "        \n",
    "    saver.save(sess, './mynet')\n",
    "    print(\"Model saved\")"
   ]
  },
  {
   "cell_type": "markdown",
   "metadata": {},
   "source": [
    "---\n",
    "\n",
    "## Step 3: Test a Model on New Images\n",
    "\n",
    "To give yourself more insight into how your model is working, download at least five pictures of German traffic signs from the web and use your model to predict the traffic sign type.\n",
    "\n",
    "You may find `signnames.csv` useful as it contains mappings from the class id (integer) to the actual sign name."
   ]
  },
  {
   "cell_type": "markdown",
   "metadata": {},
   "source": [
    "### Load and Output the Images"
   ]
  },
  {
   "cell_type": "code",
   "execution_count": 15,
   "metadata": {},
   "outputs": [
    {
     "name": "stdout",
     "output_type": "stream",
     "text": [
      "[28, 38, 11, 40, 14]\n"
     ]
    },
    {
     "data": {
      "image/png": "[encoded data removed]",
      "text/plain": [
       "<matplotlib.figure.Figure at 0x7f8d244314a8>"
      ]
     },
     "metadata": {},
     "output_type": "display_data"
    },
    {
     "name": "stdout",
     "output_type": "stream",
     "text": [
      "(5, 32, 32, 3)\n"
     ]
    }
   ],
   "source": [
    "### Load the images and plot them here.\n",
    "### Feel free to use as many code cells as needed.\n",
    "from PIL import Image\n",
    "\n",
    "plt.figure(1)\n",
    "x_example = []\n",
    "y_example=[28,38,11,40,14]\n",
    "\n",
    "children_28 = Image.open(\"german_sign_examples/children_crossing_28.jpg\")\n",
    "children_28 = np.asarray(children_28)\n",
    "x_example.append(children_28)\n",
    "plt.subplot(151)\n",
    "plt.imshow(children_28)\n",
    "\n",
    "right_38 = Image.open(\"german_sign_examples/keep_right_38.jpg\")\n",
    "right_38 = np.asarray(right_38)\n",
    "x_example.append(right_38)\n",
    "plt.subplot(152)\n",
    "plt.imshow(right_38)\n",
    "\n",
    "priority_12 = Image.open(\"german_sign_examples/priority_road_12.jpg\")\n",
    "priority_12 = np.asarray(priority_12)\n",
    "x_example.append(priority_12)\n",
    "plt.subplot(153)\n",
    "plt.imshow(priority_12)\n",
    "\n",
    "roundabout_40 = Image.open(\"german_sign_examples/roundabout_40.jpg\")\n",
    "roundabout_40 = np.asarray(roundabout_40)\n",
    "x_example.append(roundabout_40)\n",
    "plt.subplot(154)\n",
    "plt.imshow(roundabout_40)\n",
    "\n",
    "stop_14 = Image.open(\"german_sign_examples/stop_sign_14.jpg\")\n",
    "stop_14 = np.asarray(stop_14)\n",
    "x_example.append(stop_14)\n",
    "plt.subplot(155)\n",
    "plt.imshow(stop_14)\n",
    "\n",
    "print(y_example)\n",
    "plt.show()\n",
    "x_example=np.array(x_example)\n",
    "print(x_example.shape)"
   ]
  },
  {
   "cell_type": "code",
   "execution_count": 16,
   "metadata": {},
   "outputs": [
    {
     "name": "stdout",
     "output_type": "stream",
     "text": [
      "5\n",
      "(5, 32, 32, 1)\n"
     ]
    },
    {
     "data": {
      "image/png": "[encoded data removed]",
      "text/plain": [
       "<matplotlib.figure.Figure at 0x7f8d244f8160>"
      ]
     },
     "metadata": {},
     "output_type": "display_data"
    },
    {
     "name": "stdout",
     "output_type": "stream",
     "text": [
      "[[[ 0.9140625]\n",
      "  [ 0.96875  ]\n",
      "  [ 0.8828125]\n",
      "  ..., \n",
      "  [ 0.2421875]\n",
      "  [ 0.046875 ]\n",
      "  [ 0.0546875]]\n",
      "\n",
      " [[ 0.9609375]\n",
      "  [ 0.90625  ]\n",
      "  [ 0.9765625]\n",
      "  ..., \n",
      "  [ 0.0390625]\n",
      "  [ 0.3046875]\n",
      "  [ 0.1328125]]\n",
      "\n",
      " [[ 0.53125  ]\n",
      "  [ 0.4921875]\n",
      "  [ 0.5859375]\n",
      "  ..., \n",
      "  [ 0.1875   ]\n",
      "  [ 0.1640625]\n",
      "  [ 0.15625  ]]\n",
      "\n",
      " ..., \n",
      " [[ 0.90625  ]\n",
      "  [ 0.8125   ]\n",
      "  [ 0.8125   ]\n",
      "  ..., \n",
      "  [ 0.6796875]\n",
      "  [ 0.640625 ]\n",
      "  [ 0.6796875]]\n",
      "\n",
      " [[ 0.8125   ]\n",
      "  [ 0.8515625]\n",
      "  [ 0.8671875]\n",
      "  ..., \n",
      "  [ 0.703125 ]\n",
      "  [ 0.578125 ]\n",
      "  [ 0.71875  ]]\n",
      "\n",
      " [[ 0.78125  ]\n",
      "  [ 0.8125   ]\n",
      "  [ 0.8359375]\n",
      "  ..., \n",
      "  [ 0.734375 ]\n",
      "  [ 0.8828125]\n",
      "  [ 0.640625 ]]]\n"
     ]
    }
   ],
   "source": [
    "#conversion to gray scale\n",
    "x_gray = []\n",
    "plt.figure(1)\n",
    "\n",
    "print(x_example.shape[0])\n",
    "for im in range(0, x_example.shape[0]):\n",
    "    x_gray.append(gray_scale(x_example[im][:][:]))\n",
    "    plt.subplot(1,5,im+1)\n",
    "    plt.imshow(x_gray[im],cmap=\"gray\")\n",
    "\n",
    "x_gray = np.expand_dims(x_gray,3) #get from (5,32,32) to (5,32,32,1)\n",
    "print(x_gray.shape)\n",
    "plt.show()\n",
    "\n",
    "x_gray = np.subtract(x_gray,128,dtype=np.signedinteger)/128\n",
    "print (x_gray[1][:][:][:])\n"
   ]
  },
  {
   "cell_type": "markdown",
   "metadata": {},
   "source": [
    "### Predict the Sign Type for Each Image"
   ]
  },
  {
   "cell_type": "code",
   "execution_count": 17,
   "metadata": {
    "collapsed": true
   },
   "outputs": [],
   "source": [
    "### Run the predictions here and use the model to output the prediction for each image.\n",
    "### Make sure to pre-process the images with the same pre-processing pipeline used earlier.\n",
    "### Feel free to use as many code cells as needed.\n",
    "probabilities = tf.nn.softmax(logits=logits)\n",
    "\n",
    "def prediction(X_data, y_data):\n",
    "    sess = tf.get_default_session()\n",
    "    prediction = sess.run(probabilities, feed_dict={x: X_data, y: y_data, kprob:1})\n",
    "    return prediction\n",
    "\n"
   ]
  },
  {
   "cell_type": "code",
   "execution_count": 19,
   "metadata": {},
   "outputs": [
    {
     "name": "stdout",
     "output_type": "stream",
     "text": [
      "(5, 43)\n",
      "[[  3.15583985e-13   7.01774088e-13   4.68910837e-22   9.78337420e-13\n",
      "    9.45103138e-23   1.58155816e-18   4.46537782e-21   2.77271892e-23\n",
      "    2.16706961e-16   1.14470268e-19   4.91334866e-25   7.79002960e-08\n",
      "    4.69230334e-14   2.24566301e-17   1.50855474e-22   8.49661306e-22\n",
      "    3.14785415e-22   1.19449817e-16   6.72629162e-13   8.75606754e-10\n",
      "    1.10825571e-14   2.86118775e-19   1.20963633e-21   1.27605001e-17\n",
      "    1.57316217e-13   1.48129469e-17   2.98678969e-13   6.75714693e-11\n",
      "    9.99999881e-01   8.38559474e-13   7.65425084e-11   4.21462901e-20\n",
      "    4.89834579e-15   8.19420203e-17   8.52154447e-14   3.43039182e-13\n",
      "    7.09244404e-15   2.00648375e-31   1.05250207e-15   1.34034486e-22\n",
      "    4.81514436e-22   3.89453771e-19   4.04612411e-28]\n",
      " [  0.00000000e+00   0.00000000e+00   0.00000000e+00   0.00000000e+00\n",
      "    0.00000000e+00   0.00000000e+00   0.00000000e+00   0.00000000e+00\n",
      "    0.00000000e+00   0.00000000e+00   0.00000000e+00   0.00000000e+00\n",
      "    0.00000000e+00   0.00000000e+00   0.00000000e+00   0.00000000e+00\n",
      "    0.00000000e+00   0.00000000e+00   0.00000000e+00   0.00000000e+00\n",
      "    0.00000000e+00   0.00000000e+00   0.00000000e+00   0.00000000e+00\n",
      "    0.00000000e+00   0.00000000e+00   0.00000000e+00   0.00000000e+00\n",
      "    0.00000000e+00   0.00000000e+00   0.00000000e+00   0.00000000e+00\n",
      "    0.00000000e+00   0.00000000e+00   0.00000000e+00   0.00000000e+00\n",
      "    0.00000000e+00   0.00000000e+00   1.00000000e+00   0.00000000e+00\n",
      "    0.00000000e+00   0.00000000e+00   0.00000000e+00]\n",
      " [  0.00000000e+00   0.00000000e+00   0.00000000e+00   0.00000000e+00\n",
      "    0.00000000e+00   0.00000000e+00   0.00000000e+00   2.89905447e-37\n",
      "    0.00000000e+00   0.00000000e+00   1.28531525e-36   1.00000000e+00\n",
      "    2.09309130e-33   0.00000000e+00   0.00000000e+00   0.00000000e+00\n",
      "    1.26586498e-23   0.00000000e+00   1.63334868e-35   0.00000000e+00\n",
      "    1.10516221e-35   2.21432596e-31   0.00000000e+00   3.57458727e-37\n",
      "    0.00000000e+00   0.00000000e+00   1.47754379e-37   2.23706569e-36\n",
      "    0.00000000e+00   0.00000000e+00   3.89673060e-15   0.00000000e+00\n",
      "    0.00000000e+00   7.17544856e-37   0.00000000e+00   0.00000000e+00\n",
      "    0.00000000e+00   0.00000000e+00   0.00000000e+00   0.00000000e+00\n",
      "    1.14242158e-26   0.00000000e+00   9.97923782e-37]\n",
      " [  4.17318629e-20   1.54116374e-14   5.83253903e-23   2.11037624e-15\n",
      "    1.25706331e-20   2.51475992e-17   1.63213789e-12   1.31680422e-11\n",
      "    1.55344797e-16   2.26231555e-12   3.60078348e-14   2.86374620e-06\n",
      "    9.99254644e-01   1.32195034e-15   2.45750604e-19   1.05541567e-14\n",
      "    1.46903028e-06   4.06856000e-13   1.04012427e-13   5.64862841e-23\n",
      "    2.05168131e-13   1.79755213e-19   1.65961040e-29   4.89813626e-21\n",
      "    2.65316824e-25   2.18233262e-14   1.82653562e-11   1.66778207e-17\n",
      "    1.34809685e-13   2.49358294e-16   1.06646137e-12   1.77895960e-23\n",
      "    7.01794215e-06   2.30064516e-14   1.43903645e-15   1.06185451e-11\n",
      "    5.78356702e-18   2.97519224e-20   3.72357245e-16   4.10365042e-26\n",
      "    7.23623554e-04   1.03152452e-05   5.44443104e-08]\n",
      " [  2.74842561e-15   1.14813228e-10   3.30068980e-12   6.87931890e-16\n",
      "    2.18486863e-14   1.44850382e-11   1.90017191e-16   1.63330477e-13\n",
      "    1.01748043e-09   4.36687050e-19   3.62528460e-16   6.45692182e-18\n",
      "    1.67321190e-20   1.17011671e-17   1.00000000e+00   1.48756599e-21\n",
      "    7.67630491e-17   8.88420603e-14   6.16361524e-17   8.98804055e-25\n",
      "    8.21250472e-18   8.29803354e-18   3.85019815e-24   1.63406996e-22\n",
      "    6.42178890e-20   2.81943519e-16   2.98636818e-17   6.01000875e-23\n",
      "    5.33263282e-19   3.52019572e-18   6.59086064e-17   8.54470376e-18\n",
      "    1.75274192e-20   1.05947418e-09   7.55771422e-13   1.02335013e-17\n",
      "    1.08596381e-19   1.54414215e-09   5.91636318e-14   3.57969730e-11\n",
      "    7.39996606e-13   1.96462086e-25   1.35090316e-23]]\n"
     ]
    }
   ],
   "source": [
    "saver = tf.train.Saver()\n",
    "\n",
    "with tf.Session() as sess2:\n",
    "    # Load the weights and bias\n",
    "    saver.restore(sess2, './mynet')\n",
    "    predict = prediction(x_gray, y_example)\n",
    "    \n",
    "    print(predict.shape)\n",
    "    print(predict)"
   ]
  },
  {
   "cell_type": "markdown",
   "metadata": {},
   "source": [
    "### Analyze Performance"
   ]
  },
  {
   "cell_type": "code",
   "execution_count": 20,
   "metadata": {},
   "outputs": [
    {
     "name": "stdout",
     "output_type": "stream",
     "text": [
      "[28, 38, 11, 12, 14]\n",
      "[28, 38, 11, 40, 14]\n",
      "The accuracy of the sytem is 80 %\n"
     ]
    }
   ],
   "source": [
    "### Calculate the accuracy for these 5 new images. \n",
    "### For example, if the model predicted 1 out of 5 signs correctly, it's 20% accurate on these new images.\n",
    "predicted_sign = []\n",
    "success = 0\n",
    "for i in range(0,5):\n",
    "    predicted_sign.append(np.argmax(predict[i][:]))\n",
    "    if np.argmax(predict[i][:])==y_example[i]:\n",
    "        success+=1\n",
    "        \n",
    "print(\"Predicted sign labels:\",predicted_sign)\n",
    "print(\"Correct sign labels:\",y_example)\n",
    "print(\"The accuracy of the sytem is\",(success*20),\"%\")"
   ]
  },
  {
   "cell_type": "markdown",
   "metadata": {},
   "source": [
    "### Output Top 5 Softmax Probabilities For Each Image Found on the Web"
   ]
  },
  {
   "cell_type": "markdown",
   "metadata": {},
   "source": [
    "For each of the new images, print out the model's softmax probabilities to show the **certainty** of the model's predictions (limit the output to the top 5 probabilities for each image). [`tf.nn.top_k`](https://www.tensorflow.org/versions/r0.12/api_docs/python/nn.html#top_k) could prove helpful here. \n",
    "\n",
    "The example below demonstrates how tf.nn.top_k can be used to find the top k predictions for each image.\n",
    "\n",
    "`tf.nn.top_k` will return the values and indices (class ids) of the top k predictions. So if k=3, for each sign, it'll return the 3 largest probabilities (out of a possible 43) and the correspoding class ids.\n",
    "\n",
    "Take this numpy array as an example. The values in the array represent predictions. The array contains softmax probabilities for five candidate images with six possible classes. `tf.nn.top_k` is used to choose the three classes with the highest probability:\n",
    "\n",
    "```\n",
    "# (5, 6) array\n",
    "a = np.array([[ 0.24879643,  0.07032244,  0.12641572,  0.34763842,  0.07893497,\n",
    "         0.12789202],\n",
    "       [ 0.28086119,  0.27569815,  0.08594638,  0.0178669 ,  0.18063401,\n",
    "         0.15899337],\n",
    "       [ 0.26076848,  0.23664738,  0.08020603,  0.07001922,  0.1134371 ,\n",
    "         0.23892179],\n",
    "       [ 0.11943333,  0.29198961,  0.02605103,  0.26234032,  0.1351348 ,\n",
    "         0.16505091],\n",
    "       [ 0.09561176,  0.34396535,  0.0643941 ,  0.16240774,  0.24206137,\n",
    "         0.09155967]])\n",
    "```\n",
    "\n",
    "Running it through `sess.run(tf.nn.top_k(tf.constant(a), k=3))` produces:\n",
    "\n",
    "```\n",
    "TopKV2(values=array([[ 0.34763842,  0.24879643,  0.12789202],\n",
    "       [ 0.28086119,  0.27569815,  0.18063401],\n",
    "       [ 0.26076848,  0.23892179,  0.23664738],\n",
    "       [ 0.29198961,  0.26234032,  0.16505091],\n",
    "       [ 0.34396535,  0.24206137,  0.16240774]]), indices=array([[3, 0, 5],\n",
    "       [0, 1, 4],\n",
    "       [0, 5, 1],\n",
    "       [1, 3, 5],\n",
    "       [1, 4, 3]], dtype=int32))\n",
    "```\n",
    "\n",
    "Looking just at the first row we get `[ 0.34763842,  0.24879643,  0.12789202]`, you can confirm these are the 3 largest probabilities in `a`. You'll also notice `[3, 0, 5]` are the corresponding indices."
   ]
  },
  {
   "cell_type": "code",
   "execution_count": 21,
   "metadata": {},
   "outputs": [
    {
     "name": "stdout",
     "output_type": "stream",
     "text": [
      "The top predictions for the sign number are: [28 11 19]\n",
      "    - with the respective probablilities of: [  9.99999881e-01   7.79002960e-08   8.75606754e-10]\n",
      "    => The real number is: 28\n",
      "The top predictions for the sign number are: [38  0  1]\n",
      "    - with the respective probablilities of: [ 1.  0.  0.]\n",
      "    => The real number is: 38\n",
      "The top predictions for the sign number are: [11 30 16]\n",
      "    - with the respective probablilities of: [  1.00000000e+00   3.89673060e-15   1.26586498e-23]\n",
      "    => The real number is: 11\n",
      "The top predictions for the sign number are: [12 40 41]\n",
      "    - with the respective probablilities of: [  9.99254644e-01   7.23623554e-04   1.03152452e-05]\n",
      "    => The real number is: 40\n",
      "The top predictions for the sign number are: [14 37 33]\n",
      "    - with the respective probablilities of: [  1.00000000e+00   1.54414215e-09   1.05947418e-09]\n",
      "    => The real number is: 14\n"
     ]
    }
   ],
   "source": [
    "### Print out the top five softmax probabilities for the predictions on the German traffic sign images found on the web. \n",
    "### Feel free to use as many code cells as needed.\n",
    "\n",
    "with tf.Session() as sess3:\n",
    "    for sign in range(0,5):\n",
    "        top=sess3.run(tf.nn.top_k(tf.constant(predict[sign][:]), k=3))\n",
    "        print(\"The top predictions for the sign number\", \"are:\",top.indices)\n",
    "        print(\"    - with the respective probablilities of:\",top.values)\n",
    "        print(\"    => The real number is:\",y_example[sign])"
   ]
  },
  {
   "cell_type": "markdown",
   "metadata": {},
   "source": [
    "### Project Writeup\n",
    "\n",
    "Once you have completed the code implementation, document your results in a project writeup using this [template](https://github.com/udacity/CarND-Traffic-Sign-Classifier-Project/blob/master/writeup_template.md) as a guide. The writeup can be in a markdown or pdf file. "
   ]
  },
  {
   "cell_type": "markdown",
   "metadata": {},
   "source": [
    "> **Note**: Once you have completed all of the code implementations and successfully answered each question above, you may finalize your work by exporting the iPython Notebook as an HTML document. You can do this by using the menu above and navigating to  \\n\",\n",
    "    \"**File -> Download as -> HTML (.html)**. Include the finished document along with this notebook as your submission."
   ]
  },
  {
   "cell_type": "markdown",
   "metadata": {},
   "source": [
    "---\n",
    "\n",
    "## Step 4 (Optional): Visualize the Neural Network's State with Test Images\n",
    "\n",
    " This Section is not required to complete but acts as an additional excersise for understaning the output of a neural network's weights. While neural networks can be a great learning device they are often referred to as a black box. We can understand what the weights of a neural network look like better by plotting their feature maps. After successfully training your neural network you can see what it's feature maps look like by plotting the output of the network's weight layers in response to a test stimuli image. From these plotted feature maps, it's possible to see what characteristics of an image the network finds interesting. For a sign, maybe the inner network feature maps react with high activation to the sign's boundary outline or to the contrast in the sign's painted symbol.\n",
    "\n",
    " Provided for you below is the function code that allows you to get the visualization output of any tensorflow weight layer you want. The inputs to the function should be a stimuli image, one used during training or a new one you provided, and then the tensorflow variable name that represents the layer's state during the training process, for instance if you wanted to see what the [LeNet lab's](https://classroom.udacity.com/nanodegrees/nd013/parts/fbf77062-5703-404e-b60c-95b78b2f3f9e/modules/6df7ae49-c61c-4bb2-a23e-6527e69209ec/lessons/601ae704-1035-4287-8b11-e2c2716217ad/concepts/d4aca031-508f-4e0b-b493-e7b706120f81) feature maps looked like for it's second convolutional layer you could enter conv2 as the tf_activation variable.\n",
    "\n",
    "For an example of what feature map outputs look like, check out NVIDIA's results in their paper [End-to-End Deep Learning for Self-Driving Cars](https://devblogs.nvidia.com/parallelforall/deep-learning-self-driving-cars/) in the section Visualization of internal CNN State. NVIDIA was able to show that their network's inner weights had high activations to road boundary lines by comparing feature maps from an image with a clear path to one without. Try experimenting with a similar test to show that your trained network's weights are looking for interesting features, whether it's looking at differences in feature maps from images with or without a sign, or even what feature maps look like in a trained network vs a completely untrained one on the same sign image.\n",
    "\n",
    "<figure>\n",
    " <img src=\"visualize_cnn.png\" width=\"380\" alt=\"Combined Image\" />\n",
    " <figcaption>\n",
    " <p></p> \n",
    " <p style=\"text-align: center;\"> Your output should look something like this (above)</p> \n",
    " </figcaption>\n",
    "</figure>\n",
    " <p></p> \n"
   ]
  },
  {
   "cell_type": "code",
   "execution_count": null,
   "metadata": {
    "collapsed": true
   },
   "outputs": [],
   "source": [
    "### Visualize your network's feature maps here.\n",
    "### Feel free to use as many code cells as needed.\n",
    "\n",
    "# image_input: the test image being fed into the network to produce the feature maps\n",
    "# tf_activation: should be a tf variable name used during your training procedure that represents the calculated state of a specific weight layer\n",
    "# activation_min/max: can be used to view the activation contrast in more detail, by default matplot sets min and max to the actual min and max values of the output\n",
    "# plt_num: used to plot out multiple different weight feature map sets on the same block, just extend the plt number for each new feature map entry\n",
    "\n",
    "def outputFeatureMap(image_input, tf_activation, activation_min=-1, activation_max=-1 ,plt_num=1):\n",
    "    # Here make sure to preprocess your image_input in a way your network expects\n",
    "    # with size, normalization, ect if needed\n",
    "    # image_input =\n",
    "    # Note: x should be the same name as your network's tensorflow data placeholder variable\n",
    "    # If you get an error tf_activation is not defined it may be having trouble accessing the variable from inside a function\n",
    "    activation = tf_activation.eval(session=sess,feed_dict={x : image_input})\n",
    "    featuremaps = activation.shape[3]\n",
    "    plt.figure(plt_num, figsize=(15,15))\n",
    "    for featuremap in range(featuremaps):\n",
    "        plt.subplot(6,8, featuremap+1) # sets the number of feature maps to show on each row and column\n",
    "        plt.title('FeatureMap ' + str(featuremap)) # displays the feature map number\n",
    "        if activation_min != -1 & activation_max != -1:\n",
    "            plt.imshow(activation[0,:,:, featuremap], interpolation=\"nearest\", vmin =activation_min, vmax=activation_max, cmap=\"gray\")\n",
    "        elif activation_max != -1:\n",
    "            plt.imshow(activation[0,:,:, featuremap], interpolation=\"nearest\", vmax=activation_max, cmap=\"gray\")\n",
    "        elif activation_min !=-1:\n",
    "            plt.imshow(activation[0,:,:, featuremap], interpolation=\"nearest\", vmin=activation_min, cmap=\"gray\")\n",
    "        else:\n",
    "            plt.imshow(activation[0,:,:, featuremap], interpolation=\"nearest\", cmap=\"gray\")"
   ]
  }
 ],
 "metadata": {
  "anaconda-cloud": {},
  "kernelspec": {
   "display_name": "Python 3",
   "language": "python",
   "name": "python3"
  },
  "language_info": {
   "codemirror_mode": {
    "name": "ipython",
    "version": 3
   },
   "file_extension": ".py",
   "mimetype": "text/x-python",
   "name": "python",
   "nbconvert_exporter": "python",
   "pygments_lexer": "ipython3",
   "version": "3.5.2"
  },
  "widgets": {
   "state": {},
   "version": "1.1.2"
  }
 },
 "nbformat": 4,
 "nbformat_minor": 1
}
