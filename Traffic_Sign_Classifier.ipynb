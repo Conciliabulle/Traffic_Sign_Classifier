{
 "cells": [
  {
   "cell_type": "markdown",
   "metadata": {},
   "source": [
    "# Self-Driving Car Engineer Nanodegree\n",
    "\n",
    "## Deep Learning\n",
    "\n",
    "## Project: Build a Traffic Sign Recognition Classifier\n",
    "\n",
    "In this notebook, a template is provided for you to implement your functionality in stages, which is required to successfully complete this project. If additional code is required that cannot be included in the notebook, be sure that the Python code is successfully imported and included in your submission if necessary. \n",
    "\n",
    "> **Note**: Once you have completed all of the code implementations, you need to finalize your work by exporting the iPython Notebook as an HTML document. Before exporting the notebook to html, all of the code cells need to have been run so that reviewers can see the final implementation and output. You can then export the notebook by using the menu above and navigating to  \\n\",\n",
    "    \"**File -> Download as -> HTML (.html)**. Include the finished document along with this notebook as your submission. \n",
    "\n",
    "In addition to implementing code, there is a writeup to complete. The writeup should be completed in a separate file, which can be either a markdown file or a pdf document. There is a [write up template](https://github.com/udacity/CarND-Traffic-Sign-Classifier-Project/blob/master/writeup_template.md) that can be used to guide the writing process. Completing the code template and writeup template will cover all of the [rubric points](https://review.udacity.com/#!/rubrics/481/view) for this project.\n",
    "\n",
    "The [rubric](https://review.udacity.com/#!/rubrics/481/view) contains \"Stand Out Suggestions\" for enhancing the project beyond the minimum requirements. The stand out suggestions are optional. If you decide to pursue the \"stand out suggestions\", you can include the code in this Ipython notebook and also discuss the results in the writeup file.\n",
    "\n",
    "\n",
    ">**Note:** Code and Markdown cells can be executed using the **Shift + Enter** keyboard shortcut. In addition, Markdown cells can be edited by typically double-clicking the cell to enter edit mode."
   ]
  },
  {
   "cell_type": "markdown",
   "metadata": {},
   "source": [
    "---\n",
    "## Step 0: Load The Data"
   ]
  },
  {
   "cell_type": "code",
   "execution_count": 89,
   "metadata": {
    "collapsed": true
   },
   "outputs": [],
   "source": [
    "# Load pickled data\n",
    "import pickle\n",
    "import numpy as np\n",
    "import pandas as pd\n",
    "\n",
    "# TODO: Fill this in based on where you saved the training and testing data\n",
    "\n",
    "training_file = \"train.p\"\n",
    "validation_file= \"valid.p\"\n",
    "testing_file = \"test.p\"\n",
    "\n",
    "with open(training_file, mode='rb') as f:\n",
    "    train = pickle.load(f)\n",
    "with open(validation_file, mode='rb') as f:\n",
    "    valid = pickle.load(f)\n",
    "with open(testing_file, mode='rb') as f:\n",
    "    test = pickle.load(f)\n",
    "    \n",
    "X_train, y_train = train['features'], train['labels']\n",
    "X_valid, y_valid = valid['features'], valid['labels']\n",
    "X_test, y_test = test['features'], test['labels']"
   ]
  },
  {
   "cell_type": "markdown",
   "metadata": {},
   "source": [
    "---\n",
    "\n",
    "## Step 1: Dataset Summary & Exploration\n",
    "\n",
    "The pickled data is a dictionary with 4 key/value pairs:\n",
    "\n",
    "- `'features'` is a 4D array containing raw pixel data of the traffic sign images, (num examples, width, height, channels).\n",
    "- `'labels'` is a 1D array containing the label/class id of the traffic sign. The file `signnames.csv` contains id -> name mappings for each id.\n",
    "- `'sizes'` is a list containing tuples, (width, height) representing the original width and height the image.\n",
    "- `'coords'` is a list containing tuples, (x1, y1, x2, y2) representing coordinates of a bounding box around the sign in the image. **THESE COORDINATES ASSUME THE ORIGINAL IMAGE. THE PICKLED DATA CONTAINS RESIZED VERSIONS (32 by 32) OF THESE IMAGES**\n",
    "\n",
    "Complete the basic data summary below. Use python, numpy and/or pandas methods to calculate the data summary rather than hard coding the results. For example, the [pandas shape method](http://pandas.pydata.org/pandas-docs/stable/generated/pandas.DataFrame.shape.html) might be useful for calculating some of the summary results. "
   ]
  },
  {
   "cell_type": "markdown",
   "metadata": {},
   "source": [
    "### Provide a Basic Summary of the Data Set Using Python, Numpy and/or Pandas"
   ]
  },
  {
   "cell_type": "code",
   "execution_count": 90,
   "metadata": {},
   "outputs": [
    {
     "name": "stdout",
     "output_type": "stream",
     "text": [
      "Number of training examples = 34799\n",
      "Number of testing examples = 12630\n",
      "Image data shape = (32, 32)\n",
      "Number of classes = (43,)\n"
     ]
    }
   ],
   "source": [
    "### Replace each question mark with the appropriate value. \n",
    "### Use python, pandas or numpy methods rather than hard coding the results\n",
    "\n",
    "# TODO: Number of training examples\n",
    "n_train = np.shape(X_train)[0]\n",
    "\n",
    "# TODO: Number of validation examples\n",
    "n_validation = np.shape(X_valid)[0]\n",
    "\n",
    "# TODO: Number of testing examples.\n",
    "n_test = np.shape(X_test)[0]\n",
    "\n",
    "# TODO: What's the shape of an traffic sign image?\n",
    "image_shape = (np.shape(X_train)[1],np.shape(X_train)[2])\n",
    "\n",
    "# TODO: How many unique classes/labels there are in the dataset.\n",
    "df = pd.unique(pd.Series(y_test))\n",
    "n_classes = np.shape(df)\n",
    "\n",
    "print(\"Number of training examples =\", n_train)\n",
    "print(\"Number of testing examples =\", n_test)\n",
    "print(\"Image data shape =\", image_shape)\n",
    "print(\"Number of classes =\", n_classes)"
   ]
  },
  {
   "cell_type": "markdown",
   "metadata": {},
   "source": [
    "### Include an exploratory visualization of the dataset"
   ]
  },
  {
   "cell_type": "markdown",
   "metadata": {},
   "source": [
    "Visualize the German Traffic Signs Dataset using the pickled file(s). This is open ended, suggestions include: plotting traffic sign images, plotting the count of each sign, etc. \n",
    "\n",
    "The [Matplotlib](http://matplotlib.org/) [examples](http://matplotlib.org/examples/index.html) and [gallery](http://matplotlib.org/gallery.html) pages are a great resource for doing visualizations in Python.\n",
    "\n",
    "**NOTE:** It's recommended you start with something simple first. If you wish to do more, come back to it after you've completed the rest of the sections. It can be interesting to look at the distribution of classes in the training, validation and test set. Is the distribution the same? Are there more examples of some classes than others?"
   ]
  },
  {
   "cell_type": "code",
   "execution_count": 91,
   "metadata": {},
   "outputs": [
    {
     "data": {
      "text/plain": [
       "<matplotlib.image.AxesImage at 0x7f0ceaf6c710>"
      ]
     },
     "execution_count": 91,
     "metadata": {},
     "output_type": "execute_result"
    },
    {
     "data": {
      "image/png": "[encoded data removed]",
      "text/plain": [
       "<matplotlib.figure.Figure at 0x7f0ceafa1ac8>"
      ]
     },
     "metadata": {},
     "output_type": "display_data"
    }
   ],
   "source": [
    "### Data exploration visualization code goes here.\n",
    "### Feel free to use as many code cells as needed.\n",
    "import matplotlib.pyplot as plt\n",
    "import random\n",
    "# Visualizations will be shown in the notebook.\n",
    "%matplotlib inline\n",
    "\n",
    "# Choose random \n",
    "random.seed(a=None)\n",
    "index = random.randint(0, n_train)\n",
    "image = X_train[index].squeeze()\n",
    "\n",
    "plt.figure(figsize=(1,1))\n",
    "plt.title('Traffic sign number: %s' %(y_train[index]))\n",
    "plt.imshow(image)\n",
    "\n"
   ]
  },
  {
   "cell_type": "code",
   "execution_count": 92,
   "metadata": {
    "collapsed": true
   },
   "outputs": [],
   "source": [
    "from sklearn.utils import shuffle\n",
    "\n",
    "X_train, y_train = shuffle(X_train, y_train)"
   ]
  },
  {
   "cell_type": "markdown",
   "metadata": {},
   "source": [
    "----\n",
    "\n",
    "## Step 2: Design and Test a Model Architecture\n",
    "\n",
    "Design and implement a deep learning model that learns to recognize traffic signs. Train and test your model on the [German Traffic Sign Dataset](http://benchmark.ini.rub.de/?section=gtsrb&subsection=dataset).\n",
    "\n",
    "The LeNet-5 implementation shown in the [classroom](https://classroom.udacity.com/nanodegrees/nd013/parts/fbf77062-5703-404e-b60c-95b78b2f3f9e/modules/6df7ae49-c61c-4bb2-a23e-6527e69209ec/lessons/601ae704-1035-4287-8b11-e2c2716217ad/concepts/d4aca031-508f-4e0b-b493-e7b706120f81) at the end of the CNN lesson is a solid starting point. You'll have to change the number of classes and possibly the preprocessing, but aside from that it's plug and play! \n",
    "\n",
    "With the LeNet-5 solution from the lecture, you should expect a validation set accuracy of about 0.89. To meet specifications, the validation set accuracy will need to be at least 0.93. It is possible to get an even higher accuracy, but 0.93 is the minimum for a successful project submission. \n",
    "\n",
    "There are various aspects to consider when thinking about this problem:\n",
    "\n",
    "- Neural network architecture (is the network over or underfitting?)\n",
    "- Play around preprocessing techniques (normalization, rgb to grayscale, etc)\n",
    "- Number of examples per label (some have more than others).\n",
    "- Generate fake data.\n",
    "\n",
    "Here is an example of a [published baseline model on this problem](http://yann.lecun.com/exdb/publis/pdf/sermanet-ijcnn-11.pdf). It's not required to be familiar with the approach used in the paper but, it's good practice to try to read papers like these."
   ]
  },
  {
   "cell_type": "code",
   "execution_count": 93,
   "metadata": {
    "collapsed": true
   },
   "outputs": [],
   "source": [
    "# idea for accuracy improvement:\n",
    "#   - denoising 5for ex 5x5 gaussian filter (https://openreview.net/pdf?id=SkgbhoyC)\n",
    "#   - dropping technic\n",
    "#   - reusing first featutres in classification stage\n",
    "#   - test with rgb to gray scale conversion with average method vs weight method: https://samarthbhargav.wordpress.com/2014/05/05/image-processing-with-python-rgb-to-grayscale-conversion/\n",
    "# https://navoshta.com/traffic-signs-classification/\n",
    "# https://www169.lunapic.com/editor/\n"
   ]
  },
  {
   "cell_type": "markdown",
   "metadata": {},
   "source": [
    "### Pre-process the Data Set (normalization, grayscale, etc.)"
   ]
  },
  {
   "cell_type": "markdown",
   "metadata": {},
   "source": [
    "Minimally, the image data should be normalized so that the data has mean zero and equal variance. For image data, `(pixel - 128)/ 128` is a quick way to approximately normalize the data and can be used in this project. \n",
    "\n",
    "Other pre-processing steps are optional. You can try different techniques to see if it improves performance. \n",
    "\n",
    "Use the code cell (or multiple code cells, if necessary) to implement the first step of your project."
   ]
  },
  {
   "cell_type": "code",
   "execution_count": 94,
   "metadata": {},
   "outputs": [
    {
     "name": "stdout",
     "output_type": "stream",
     "text": [
      "Dimensions of RGB image are:  (32, 32, 3)\n",
      "Dimensions of gray image are:  (32, 32)\n"
     ]
    },
    {
     "data": {
      "image/png": "[encoded data removed]",
      "text/plain": [
       "<matplotlib.figure.Figure at 0x7f0cf9637518>"
      ]
     },
     "metadata": {},
     "output_type": "display_data"
    }
   ],
   "source": [
    "### Preprocess the data here. It is required to normalize the data. Other preprocessing steps could include \n",
    "### converting to grayscale, etc.\n",
    "### Feel free to use as many code cells as needed.\n",
    "\n",
    "# Shuffle the training data\n",
    "#from sklearn.utils import shuffle\n",
    "#X_train, y_train = shuffle(X_train, y_train)\n",
    "\n",
    "import cv2  #bringing in OpenCV libraries\n",
    "\n",
    "def gray_scale(image):\n",
    "    grey = cv2.cvtColor(image, cv2.COLOR_RGB2GRAY)\n",
    "    return grey\n",
    "\n",
    "# Conversion to gray scale and conversion of the sample image\n",
    "X_train_sample_g = gray_scale(X_train[index])\n",
    "plt.figure(figsize=(1,1))\n",
    "plt.imshow(X_train_sample_g, cmap=\"gray\")\n",
    "print('Dimensions of RGB image are: ', np.shape(X_train[index]))\n",
    "print('Dimensions of gray image are: ', np.shape(X_train_sample_g))\n"
   ]
  },
  {
   "cell_type": "code",
   "execution_count": 7,
   "metadata": {},
   "outputs": [
    {
     "name": "stdout",
     "output_type": "stream",
     "text": [
      "Sample image before normalisation\n",
      "[[[61 62 62]\n",
      "  [62 63 62]\n",
      "  [60 61 60]\n",
      "  ..., \n",
      "  [57 57 57]\n",
      "  [55 56 56]\n",
      "  [53 55 55]]\n",
      "\n",
      " [[62 63 63]\n",
      "  [64 64 62]\n",
      "  [64 63 61]\n",
      "  ..., \n",
      "  [55 57 58]\n",
      "  [55 56 56]\n",
      "  [53 55 55]]\n",
      "\n",
      " [[68 67 67]\n",
      "  [68 66 67]\n",
      "  [67 64 65]\n",
      "  ..., \n",
      "  [54 56 55]\n",
      "  [54 56 55]\n",
      "  [53 54 54]]\n",
      "\n",
      " ..., \n",
      " [[72 69 67]\n",
      "  [69 69 67]\n",
      "  [67 67 65]\n",
      "  ..., \n",
      "  [60 59 57]\n",
      "  [62 62 59]\n",
      "  [63 64 60]]\n",
      "\n",
      " [[69 69 66]\n",
      "  [68 68 65]\n",
      "  [66 66 64]\n",
      "  ..., \n",
      "  [64 61 59]\n",
      "  [64 63 60]\n",
      "  [63 65 60]]\n",
      "\n",
      " [[69 67 63]\n",
      "  [67 66 62]\n",
      "  [66 66 64]\n",
      "  ..., \n",
      "  [63 63 57]\n",
      "  [64 63 59]\n",
      "  [63 65 59]]]\n"
     ]
    }
   ],
   "source": [
    "print('Sample image before normalisation')\n",
    "print(X_train[index])"
   ]
  },
  {
   "cell_type": "code",
   "execution_count": 8,
   "metadata": {},
   "outputs": [
    {
     "name": "stdout",
     "output_type": "stream",
     "text": [
      "(34799, 32, 32, 1)\n"
     ]
    }
   ],
   "source": [
    "# conversion of the data sets to gray scale\n",
    "X_train_g=[]\n",
    "for image_ind in range(0,n_train):\n",
    "    temp = gray_scale(X_train[image_ind][:][:])\n",
    "    X_train_g.append(np.subtract(temp,128,dtype=np.signedinteger)/128)\n",
    "    \n",
    "X_train = np.expand_dims(X_train_g,3)\n",
    "print(np.shape(X_train))\n"
   ]
  },
  {
   "cell_type": "code",
   "execution_count": 9,
   "metadata": {},
   "outputs": [
    {
     "name": "stdout",
     "output_type": "stream",
     "text": [
      "(4410, 32, 32, 1)\n"
     ]
    }
   ],
   "source": [
    "X_valid_g=[]\n",
    "for image_ind in range(0,n_validation):\n",
    "    temp = gray_scale(X_valid[image_ind][:][:])\n",
    "    X_valid_g.append(np.subtract(temp,128,dtype=np.signedinteger)/128)\n",
    "X_valid=np.expand_dims(X_valid_g,3)\n",
    "print(np.shape(X_valid))\n",
    "\n",
    "X_test_g=[]\n",
    "for image_ind in range(0,n_test):\n",
    "    temp = gray_scale(X_test[image_ind][:][:])\n",
    "    X_test_g.append(np.subtract(temp,128,dtype=np.signedinteger)/128)\n",
    "X_test=np.expand_dims(X_test_g,3)\n"
   ]
  },
  {
   "cell_type": "code",
   "execution_count": 29,
   "metadata": {},
   "outputs": [
    {
     "name": "stdout",
     "output_type": "stream",
     "text": [
      "Sample image after normalisation\n",
      "[[[ 0.9921875]\n",
      "  [ 0.9921875]\n",
      "  [ 0.9921875]\n",
      "  ..., \n",
      "  [ 0.9609375]\n",
      "  [ 0.9765625]\n",
      "  [ 0.9921875]]\n",
      "\n",
      " [[ 0.984375 ]\n",
      "  [ 0.9921875]\n",
      "  [ 0.9921875]\n",
      "  ..., \n",
      "  [ 0.90625  ]\n",
      "  [ 0.9140625]\n",
      "  [ 0.6328125]]\n",
      "\n",
      " [[ 0.9765625]\n",
      "  [ 0.9921875]\n",
      "  [ 0.9921875]\n",
      "  ..., \n",
      "  [ 0.9140625]\n",
      "  [ 0.578125 ]\n",
      "  [ 0.265625 ]]\n",
      "\n",
      " ..., \n",
      " [[ 0.6640625]\n",
      "  [ 0.765625 ]\n",
      "  [ 0.7734375]\n",
      "  ..., \n",
      "  [-0.3203125]\n",
      "  [-0.34375  ]\n",
      "  [-0.34375  ]]\n",
      "\n",
      " [[ 0.9921875]\n",
      "  [ 0.9921875]\n",
      "  [ 0.9921875]\n",
      "  ..., \n",
      "  [-0.3046875]\n",
      "  [-0.3046875]\n",
      "  [-0.3046875]]\n",
      "\n",
      " [[ 0.9921875]\n",
      "  [ 0.9921875]\n",
      "  [ 0.9921875]\n",
      "  ..., \n",
      "  [-0.4140625]\n",
      "  [-0.359375 ]\n",
      "  [-0.3046875]]]\n",
      "(34799,)\n"
     ]
    }
   ],
   "source": [
    "# Verify the normalisation\n",
    "print('Sample image after normalisation')\n",
    "print(X_train[index])\n",
    "\n"
   ]
  },
  {
   "cell_type": "markdown",
   "metadata": {},
   "source": [
    "### Model Architecture"
   ]
  },
  {
   "cell_type": "code",
   "execution_count": 62,
   "metadata": {
    "collapsed": true
   },
   "outputs": [],
   "source": [
    "### Define your architecture here.\n",
    "### Feel free to use as many code cells as needed.\n",
    "\n",
    "import tensorflow as tf\n",
    "\n",
    "EPOCHS = 15\n",
    "BATCH_SIZE = 128\n",
    "\n",
    "from tensorflow.contrib.layers import flatten\n",
    "\n",
    "def MyNet(x, kprob):    \n",
    "    # Arguments used for tf.truncated_normal, randomly defines variables for the weights and biases for each layer\n",
    "    mu = 0\n",
    "    sigma = 0.1\n",
    "    \n",
    "    # Layer 1: Convolutional. Input = 32x32x1. Output = 28x28x10.\n",
    "    conv1_W = tf.Variable(tf.truncated_normal(shape=(5, 5, 1, 10), mean = mu, stddev = sigma))\n",
    "    conv1_b = tf.Variable(tf.zeros(10))\n",
    "    conv1   = tf.nn.conv2d(x, conv1_W, strides=[1, 1, 1, 1], padding='VALID') + conv1_b\n",
    "\n",
    "    # Activation.\n",
    "    conv1 = tf.nn.relu(conv1)\n",
    "\n",
    "    # Pooling. Input = 28x28x10. Output = 14x14x10.\n",
    "    conv1 = tf.nn.max_pool(conv1, ksize=[1, 2, 2, 1], strides=[1, 2, 2, 1], padding='VALID')\n",
    "\n",
    "    # Layer 2: Convolutional. Output = 10x10x30.\n",
    "    conv2_W = tf.Variable(tf.truncated_normal(shape=(5, 5, 10, 30), mean = mu, stddev = sigma))\n",
    "    conv2_b = tf.Variable(tf.zeros(30))\n",
    "    conv2   = tf.nn.conv2d(conv1, conv2_W, strides=[1, 1, 1, 1], padding='VALID') + conv2_b\n",
    "    \n",
    "    # Activation.\n",
    "    conv2 = tf.nn.relu(conv2)\n",
    "\n",
    "    # Pooling. Input = 10x10x30. Output = 5x5x30.\n",
    "    conv2 = tf.nn.max_pool(conv2, ksize=[1, 2, 2, 1], strides=[1, 2, 2, 1], padding='VALID')\n",
    "\n",
    "    # Flatten. Input = 5x5x30 + 14x14x10. Output = 2710\n",
    "    conv2=flatten(conv2)\n",
    "    conv1=flatten(conv1)\n",
    "    fc0   = tf.concat(1,[conv2,conv1])\n",
    "    \n",
    "    # Layer 3: Fully Connected. Input = 2710. Output = 500.\n",
    "    fc1_W = tf.Variable(tf.truncated_normal(shape=(2710, 500), mean = mu, stddev = sigma))\n",
    "    fc1_b = tf.Variable(tf.zeros(500))\n",
    "    fc1   = tf.matmul(fc0, fc1_W) + fc1_b\n",
    "    \n",
    "    # Activation.\n",
    "    fc1    = tf.nn.relu(fc1)\n",
    "\n",
    "    # Layer 4: Fully Connected. Input = 500. Output = 125.\n",
    "    fc2_W  = tf.Variable(tf.truncated_normal(shape=(500, 125), mean = mu, stddev = sigma))\n",
    "    fc2_b  = tf.Variable(tf.zeros(125))\n",
    "    fc2    = tf.matmul(fc1, fc2_W) + fc2_b\n",
    "    \n",
    "    # Activation.\n",
    "    fc2    = tf.nn.relu(fc2)\n",
    "    fc2    = tf.nn.dropout(fc2, kprob)\n",
    "\n",
    "    # Layer 5: Fully Connected. Input = 84. Output = '43 (n_classes)'.\n",
    "    fc3_W  = tf.Variable(tf.truncated_normal(shape=(125, 43), mean = mu, stddev = sigma))\n",
    "    fc3_b  = tf.Variable(tf.zeros(43))\n",
    "    logits = tf.matmul(fc2, fc3_W) + fc3_b\n",
    "    \n",
    "    return logits\n"
   ]
  },
  {
   "cell_type": "markdown",
   "metadata": {},
   "source": [
    "### Train, Validate and Test the Model"
   ]
  },
  {
   "cell_type": "markdown",
   "metadata": {},
   "source": [
    "A validation set can be used to assess how well the model is performing. A low accuracy on the training and validation\n",
    "sets imply underfitting. A high accuracy on the training set but low accuracy on the validation set implies overfitting."
   ]
  },
  {
   "cell_type": "code",
   "execution_count": 63,
   "metadata": {
    "collapsed": true
   },
   "outputs": [],
   "source": [
    "### Train your model here.\n",
    "### Calculate and report the accuracy on the training and validation set.\n",
    "### Once a final model architecture is selected, \n",
    "### the accuracy on the test set should be calculated and reported as well.\n",
    "### Feel free to use as many code cells as needed.\n",
    "\n",
    "x = tf.placeholder(tf.float32, (None, 32, 32, 1))\n",
    "y = tf.placeholder(tf.int32, (None))\n",
    "one_hot_y = tf.one_hot(y, 43)\n",
    "kprob = tf.placeholder(tf.float32) # probability to keep units\n",
    "\n",
    "\n",
    "rate = 0.001\n",
    "\n",
    "logits = MyNet(x, kprob)\n",
    "cross_entropy = tf.nn.softmax_cross_entropy_with_logits(labels=one_hot_y, logits=logits)\n",
    "loss_operation = tf.reduce_mean(cross_entropy)\n",
    "optimizer = tf.train.AdamOptimizer(learning_rate = rate)\n",
    "training_operation = optimizer.minimize(loss_operation)"
   ]
  },
  {
   "cell_type": "code",
   "execution_count": 64,
   "metadata": {
    "collapsed": true
   },
   "outputs": [],
   "source": [
    "# Model evaluation\n",
    "correct_prediction = tf.equal(tf.argmax(logits, 1), tf.argmax(one_hot_y, 1))\n",
    "accuracy_operation = tf.reduce_mean(tf.cast(correct_prediction, tf.float32))\n",
    "saver = tf.train.Saver()\n",
    "\n",
    "def evaluate(X_data, y_data):\n",
    "    num_examples = len(X_data)\n",
    "    total_accuracy = 0\n",
    "    sess = tf.get_default_session()\n",
    "    for offset in range(0, num_examples, BATCH_SIZE):\n",
    "        batch_x, batch_y = X_data[offset:offset+BATCH_SIZE], y_data[offset:offset+BATCH_SIZE]\n",
    "        accuracy = sess.run(accuracy_operation, feed_dict={x: batch_x, y: batch_y, kprob:1})\n",
    "        total_accuracy += (accuracy * len(batch_x))\n",
    "    return total_accuracy / num_examples"
   ]
  },
  {
   "cell_type": "code",
   "execution_count": 65,
   "metadata": {},
   "outputs": [
    {
     "name": "stdout",
     "output_type": "stream",
     "text": [
      "Training...\n",
      "\n",
      "EPOCH 1 ...\n",
      "Validation Accuracy = 0.855\n",
      "\n",
      "EPOCH 2 ...\n",
      "Validation Accuracy = 0.907\n",
      "\n",
      "EPOCH 3 ...\n",
      "Validation Accuracy = 0.922\n",
      "\n",
      "EPOCH 4 ...\n",
      "Validation Accuracy = 0.925\n",
      "\n",
      "EPOCH 5 ...\n",
      "Validation Accuracy = 0.930\n",
      "\n",
      "EPOCH 6 ...\n",
      "Validation Accuracy = 0.933\n",
      "\n",
      "EPOCH 7 ...\n",
      "Validation Accuracy = 0.936\n",
      "\n",
      "EPOCH 8 ...\n",
      "Validation Accuracy = 0.943\n",
      "\n",
      "EPOCH 9 ...\n",
      "Validation Accuracy = 0.938\n",
      "\n",
      "EPOCH 10 ...\n",
      "Validation Accuracy = 0.942\n",
      "\n",
      "EPOCH 11 ...\n",
      "Validation Accuracy = 0.932\n",
      "\n",
      "EPOCH 12 ...\n",
      "Validation Accuracy = 0.936\n",
      "\n",
      "EPOCH 13 ...\n",
      "Validation Accuracy = 0.938\n",
      "\n",
      "EPOCH 14 ...\n",
      "Validation Accuracy = 0.937\n",
      "\n",
      "EPOCH 15 ...\n",
      "Validation Accuracy = 0.938\n",
      "\n",
      "Model saved\n"
     ]
    }
   ],
   "source": [
    "# Run training\n",
    "from sklearn.utils import shuffle\n",
    "\n",
    "prob=0.5\n",
    "\n",
    "with tf.Session() as sess:\n",
    "    sess.run(tf.global_variables_initializer())\n",
    "    num_examples = len(X_train)\n",
    "    \n",
    "    print(\"Training...\")\n",
    "    print()\n",
    "    for i in range(EPOCHS):\n",
    "        X_train, y_train = shuffle(X_train, y_train)\n",
    "        for offset in range(0, num_examples, BATCH_SIZE):\n",
    "            end = offset + BATCH_SIZE\n",
    "            batch_x, batch_y = X_train[offset:end], y_train[offset:end]\n",
    "            sess.run(training_operation, feed_dict={x: batch_x, y: batch_y, kprob:prob})\n",
    "            \n",
    "        validation_accuracy = evaluate(X_test, y_test)\n",
    "        print(\"EPOCH {} ...\".format(i+1))\n",
    "        print(\"Validation Accuracy = {:.3f}\".format(validation_accuracy))\n",
    "        print()\n",
    "    #validation_accuracy = evaluate(X_valid, y_valid)\n",
    "    #print(\"Validation Accuracy on validation set = {:.3f}\".format(validation_accuracy))\n",
    "        \n",
    "    saver.save(sess, './mynet')\n",
    "    print(\"Model saved\")"
   ]
  },
  {
   "cell_type": "markdown",
   "metadata": {},
   "source": [
    "---\n",
    "\n",
    "## Step 3: Test a Model on New Images\n",
    "\n",
    "To give yourself more insight into how your model is working, download at least five pictures of German traffic signs from the web and use your model to predict the traffic sign type.\n",
    "\n",
    "You may find `signnames.csv` useful as it contains mappings from the class id (integer) to the actual sign name."
   ]
  },
  {
   "cell_type": "markdown",
   "metadata": {},
   "source": [
    "### Load and Output the Images"
   ]
  },
  {
   "cell_type": "code",
   "execution_count": 95,
   "metadata": {},
   "outputs": [
    {
     "name": "stdout",
     "output_type": "stream",
     "text": [
      "[28, 38, 11, 40, 14]\n"
     ]
    },
    {
     "data": {
      "image/png": "[encoded data removed]",
      "text/plain": [
       "<matplotlib.figure.Figure at 0x7f0cf94e0240>"
      ]
     },
     "metadata": {},
     "output_type": "display_data"
    },
    {
     "name": "stdout",
     "output_type": "stream",
     "text": [
      "(5, 32, 32, 3)\n"
     ]
    }
   ],
   "source": [
    "### Load the images and plot them here.\n",
    "### Feel free to use as many code cells as needed.\n",
    "from PIL import Image\n",
    "\n",
    "plt.figure(1)\n",
    "x_example = []\n",
    "y_example=[28,38,11,40,14]\n",
    "\n",
    "children_28 = Image.open(\"german_sign_examples/children_crossing_28.jpg\")\n",
    "children_28 = np.asarray(children_28)\n",
    "x_example.append(children_28)\n",
    "plt.subplot(151)\n",
    "plt.imshow(children_28)\n",
    "\n",
    "right_38 = Image.open(\"german_sign_examples/keep_right_38.jpg\")\n",
    "right_38 = np.asarray(right_38)\n",
    "x_example.append(right_38)\n",
    "plt.subplot(152)\n",
    "plt.imshow(right_38)\n",
    "\n",
    "priority_12 = Image.open(\"german_sign_examples/priority_road_12.jpg\")\n",
    "priority_12 = np.asarray(priority_12)\n",
    "x_example.append(priority_12)\n",
    "plt.subplot(153)\n",
    "plt.imshow(priority_12)\n",
    "\n",
    "roundabout_40 = Image.open(\"german_sign_examples/roundabout_40.jpg\")\n",
    "roundabout_40 = np.asarray(roundabout_40)\n",
    "x_example.append(roundabout_40)\n",
    "plt.subplot(154)\n",
    "plt.imshow(roundabout_40)\n",
    "\n",
    "stop_14 = Image.open(\"german_sign_examples/stop_sign_14.jpg\")\n",
    "stop_14 = np.asarray(stop_14)\n",
    "x_example.append(stop_14)\n",
    "plt.subplot(155)\n",
    "plt.imshow(stop_14)\n",
    "\n",
    "print(y_example)\n",
    "plt.show()\n",
    "x_example=np.array(x_example)\n",
    "print(x_example.shape)"
   ]
  },
  {
   "cell_type": "code",
   "execution_count": 96,
   "metadata": {},
   "outputs": [
    {
     "name": "stdout",
     "output_type": "stream",
     "text": [
      "5\n",
      "(5, 32, 32, 1)\n"
     ]
    },
    {
     "data": {
      "image/png": "[encoded data removed]",
      "text/plain": [
       "<matplotlib.figure.Figure at 0x7f0cf8009860>"
      ]
     },
     "metadata": {},
     "output_type": "display_data"
    },
    {
     "name": "stdout",
     "output_type": "stream",
     "text": [
      "[[[ 0.9140625]\n",
      "  [ 0.96875  ]\n",
      "  [ 0.8828125]\n",
      "  ..., \n",
      "  [ 0.2421875]\n",
      "  [ 0.046875 ]\n",
      "  [ 0.0546875]]\n",
      "\n",
      " [[ 0.9609375]\n",
      "  [ 0.90625  ]\n",
      "  [ 0.9765625]\n",
      "  ..., \n",
      "  [ 0.0390625]\n",
      "  [ 0.3046875]\n",
      "  [ 0.1328125]]\n",
      "\n",
      " [[ 0.53125  ]\n",
      "  [ 0.4921875]\n",
      "  [ 0.5859375]\n",
      "  ..., \n",
      "  [ 0.1875   ]\n",
      "  [ 0.1640625]\n",
      "  [ 0.15625  ]]\n",
      "\n",
      " ..., \n",
      " [[ 0.90625  ]\n",
      "  [ 0.8125   ]\n",
      "  [ 0.8125   ]\n",
      "  ..., \n",
      "  [ 0.6796875]\n",
      "  [ 0.640625 ]\n",
      "  [ 0.6796875]]\n",
      "\n",
      " [[ 0.8125   ]\n",
      "  [ 0.8515625]\n",
      "  [ 0.8671875]\n",
      "  ..., \n",
      "  [ 0.703125 ]\n",
      "  [ 0.578125 ]\n",
      "  [ 0.71875  ]]\n",
      "\n",
      " [[ 0.78125  ]\n",
      "  [ 0.8125   ]\n",
      "  [ 0.8359375]\n",
      "  ..., \n",
      "  [ 0.734375 ]\n",
      "  [ 0.8828125]\n",
      "  [ 0.640625 ]]]\n"
     ]
    }
   ],
   "source": [
    "#conversion to gray scale\n",
    "x_gray = []\n",
    "plt.figure(1)\n",
    "\n",
    "print(x_example.shape[0])\n",
    "for im in range(0, x_example.shape[0]):\n",
    "    x_gray.append(gray_scale(x_example[im][:][:]))\n",
    "    plt.subplot(1,5,im+1)\n",
    "    plt.imshow(x_gray[im],cmap=\"gray\")\n",
    "\n",
    "x_gray = np.expand_dims(x_gray,3) #get from (5,32,32) to (5,32,32,1)\n",
    "print(x_gray.shape)\n",
    "plt.show()\n",
    "\n",
    "x_gray = np.subtract(x_gray,128,dtype=np.signedinteger)/128\n",
    "print (x_gray[1][:][:][:])\n"
   ]
  },
  {
   "cell_type": "markdown",
   "metadata": {},
   "source": [
    "### Predict the Sign Type for Each Image"
   ]
  },
  {
   "cell_type": "code",
   "execution_count": 97,
   "metadata": {
    "collapsed": true
   },
   "outputs": [],
   "source": [
    "### Run the predictions here and use the model to output the prediction for each image.\n",
    "### Make sure to pre-process the images with the same pre-processing pipeline used earlier.\n",
    "### Feel free to use as many code cells as needed.\n",
    "probabilities = tf.nn.softmax(logits=logits)\n",
    "\n",
    "def prediction(X_data, y_data):\n",
    "    sess = tf.get_default_session()\n",
    "    prediction = sess.run(probabilities, feed_dict={x: X_data, y: y_data, kprob:1})\n",
    "    return prediction\n",
    "\n"
   ]
  },
  {
   "cell_type": "code",
   "execution_count": 98,
   "metadata": {},
   "outputs": [
    {
     "name": "stdout",
     "output_type": "stream",
     "text": [
      "(5, 43)\n",
      "[[ 0.00611272  0.04364636  0.00945247  0.02358618  0.00867443  0.00830997\n",
      "   0.10503793  0.01888797  0.01364882  0.02060145  0.00929733  0.0054154\n",
      "   0.00404335  0.0222767   0.02407652  0.01414307  0.026786    0.03695715\n",
      "   0.07530934  0.03714965  0.01249391  0.00700744  0.00490339  0.00643768\n",
      "   0.00612464  0.02454828  0.00480568  0.0041774   0.04261113  0.01489006\n",
      "   0.01426533  0.01705038  0.00467003  0.02445571  0.01287397  0.0024425\n",
      "   0.03053734  0.04452419  0.13776354  0.00335952  0.01183418  0.0396933\n",
      "   0.01511758]\n",
      " [ 0.01761408  0.06709637  0.00504177  0.02560787  0.01140278  0.01113323\n",
      "   0.05009182  0.01509425  0.00861598  0.00358758  0.02558305  0.00146443\n",
      "   0.00302905  0.00961617  0.07155003  0.00610741  0.01875481  0.05981882\n",
      "   0.05277663  0.00627553  0.00448681  0.00052755  0.00256421  0.00631931\n",
      "   0.00191931  0.01635034  0.00144892  0.00699291  0.01116174  0.02063812\n",
      "   0.00846457  0.03327415  0.00254013  0.01314908  0.02475148  0.00405065\n",
      "   0.05605423  0.01301219  0.17972355  0.00481195  0.00478677  0.09835495\n",
      "   0.01435534]\n",
      " [ 0.00360873  0.05446939  0.0150968   0.00899131  0.01067917  0.01664339\n",
      "   0.05041856  0.00708631  0.02283884  0.02401539  0.00805269  0.0093136\n",
      "   0.00148685  0.02005598  0.01476968  0.01372692  0.0469838   0.04777169\n",
      "   0.09762339  0.00656972  0.01020995  0.0103947   0.00328229  0.00404894\n",
      "   0.00272882  0.01754924  0.01729984  0.00239305  0.02296926  0.01876823\n",
      "   0.01515559  0.08118659  0.00719811  0.0255735   0.01206832  0.00331201\n",
      "   0.04625768  0.01741861  0.11650831  0.01150355  0.00790803  0.05133437\n",
      "   0.01472872]\n",
      " [ 0.00548385  0.06714012  0.00655868  0.01265837  0.01680898  0.01609013\n",
      "   0.06075507  0.01680317  0.01654081  0.012903    0.00975122  0.00297262\n",
      "   0.01646788  0.02715785  0.02696669  0.02529997  0.02426593  0.05262987\n",
      "   0.088672    0.02485838  0.02106757  0.00640311  0.00570695  0.01557733\n",
      "   0.00639486  0.02272955  0.01785356  0.00481859  0.02122851  0.01758682\n",
      "   0.01014634  0.02403709  0.00543745  0.02731144  0.01292705  0.00501242\n",
      "   0.04868066  0.027374    0.07282718  0.00983034  0.01114081  0.04639499\n",
      "   0.02872873]\n",
      " [ 0.00279104  0.06001731  0.00795277  0.03041867  0.01643327  0.00773357\n",
      "   0.02852109  0.00939809  0.03048932  0.00259377  0.02697006  0.00305299\n",
      "   0.01023369  0.0101794   0.07361411  0.03520666  0.01086664  0.01811301\n",
      "   0.04747665  0.00782817  0.00486974  0.00162162  0.00697056  0.0528941\n",
      "   0.00235675  0.04773267  0.00672906  0.00159174  0.01492133  0.0235611\n",
      "   0.01567122  0.0547332   0.00212715  0.03741277  0.01150901  0.00607416\n",
      "   0.01982891  0.00262852  0.20557284  0.00897361  0.00424316  0.0076836\n",
      "   0.0204029 ]]\n"
     ]
    }
   ],
   "source": [
    "with tf.Session() as sess2:\n",
    "    sess2.run(tf.global_variables_initializer())        \n",
    "    predict = prediction(x_gray, y_example)\n",
    "    \n",
    "    print(predict.shape)\n",
    "    print(predict)"
   ]
  },
  {
   "cell_type": "markdown",
   "metadata": {},
   "source": [
    "### Analyze Performance"
   ]
  },
  {
   "cell_type": "code",
   "execution_count": 99,
   "metadata": {},
   "outputs": [
    {
     "name": "stdout",
     "output_type": "stream",
     "text": [
      "[38, 38, 38, 18, 38]\n",
      "[28, 38, 11, 40, 14]\n",
      "The accuracy of the sytem is 20 %\n"
     ]
    }
   ],
   "source": [
    "### Calculate the accuracy for these 5 new images. \n",
    "### For example, if the model predicted 1 out of 5 signs correctly, it's 20% accurate on these new images.\n",
    "predicted_sign = []\n",
    "success = 0\n",
    "for i in range(0,5):\n",
    "    predicted_sign.append(np.argmax(predict[i][:]))\n",
    "    if np.argmax(predict[i][:])==y_example[i]:\n",
    "        success+=1\n",
    "        \n",
    "print(predicted_sign)\n",
    "print(y_example)\n",
    "print(\"The accuracy of the sytem is\",(success*20),\"%\")"
   ]
  },
  {
   "cell_type": "markdown",
   "metadata": {},
   "source": [
    "### Output Top 5 Softmax Probabilities For Each Image Found on the Web"
   ]
  },
  {
   "cell_type": "markdown",
   "metadata": {},
   "source": [
    "For each of the new images, print out the model's softmax probabilities to show the **certainty** of the model's predictions (limit the output to the top 5 probabilities for each image). [`tf.nn.top_k`](https://www.tensorflow.org/versions/r0.12/api_docs/python/nn.html#top_k) could prove helpful here. \n",
    "\n",
    "The example below demonstrates how tf.nn.top_k can be used to find the top k predictions for each image.\n",
    "\n",
    "`tf.nn.top_k` will return the values and indices (class ids) of the top k predictions. So if k=3, for each sign, it'll return the 3 largest probabilities (out of a possible 43) and the correspoding class ids.\n",
    "\n",
    "Take this numpy array as an example. The values in the array represent predictions. The array contains softmax probabilities for five candidate images with six possible classes. `tf.nn.top_k` is used to choose the three classes with the highest probability:\n",
    "\n",
    "```\n",
    "# (5, 6) array\n",
    "a = np.array([[ 0.24879643,  0.07032244,  0.12641572,  0.34763842,  0.07893497,\n",
    "         0.12789202],\n",
    "       [ 0.28086119,  0.27569815,  0.08594638,  0.0178669 ,  0.18063401,\n",
    "         0.15899337],\n",
    "       [ 0.26076848,  0.23664738,  0.08020603,  0.07001922,  0.1134371 ,\n",
    "         0.23892179],\n",
    "       [ 0.11943333,  0.29198961,  0.02605103,  0.26234032,  0.1351348 ,\n",
    "         0.16505091],\n",
    "       [ 0.09561176,  0.34396535,  0.0643941 ,  0.16240774,  0.24206137,\n",
    "         0.09155967]])\n",
    "```\n",
    "\n",
    "Running it through `sess.run(tf.nn.top_k(tf.constant(a), k=3))` produces:\n",
    "\n",
    "```\n",
    "TopKV2(values=array([[ 0.34763842,  0.24879643,  0.12789202],\n",
    "       [ 0.28086119,  0.27569815,  0.18063401],\n",
    "       [ 0.26076848,  0.23892179,  0.23664738],\n",
    "       [ 0.29198961,  0.26234032,  0.16505091],\n",
    "       [ 0.34396535,  0.24206137,  0.16240774]]), indices=array([[3, 0, 5],\n",
    "       [0, 1, 4],\n",
    "       [0, 5, 1],\n",
    "       [1, 3, 5],\n",
    "       [1, 4, 3]], dtype=int32))\n",
    "```\n",
    "\n",
    "Looking just at the first row we get `[ 0.34763842,  0.24879643,  0.12789202]`, you can confirm these are the 3 largest probabilities in `a`. You'll also notice `[3, 0, 5]` are the corresponding indices."
   ]
  },
  {
   "cell_type": "code",
   "execution_count": 100,
   "metadata": {},
   "outputs": [
    {
     "name": "stdout",
     "output_type": "stream",
     "text": [
      "The top predictions for the sign number are: [38  6 18]\n",
      "    - with the respective probablilities of: [ 0.13776354  0.10503793  0.07530934]\n",
      "    => The real number is: 28\n",
      "The top predictions for the sign number are: [38 41 14]\n",
      "    - with the respective probablilities of: [ 0.17972355  0.09835495  0.07155003]\n",
      "    => The real number is: 38\n",
      "The top predictions for the sign number are: [38 18 31]\n",
      "    - with the respective probablilities of: [ 0.11650831  0.09762339  0.08118659]\n",
      "    => The real number is: 11\n",
      "The top predictions for the sign number are: [18 38  1]\n",
      "    - with the respective probablilities of: [ 0.088672    0.07282718  0.06714012]\n",
      "    => The real number is: 40\n",
      "The top predictions for the sign number are: [38 14  1]\n",
      "    - with the respective probablilities of: [ 0.20557284  0.07361411  0.06001731]\n",
      "    => The real number is: 14\n"
     ]
    }
   ],
   "source": [
    "### Print out the top five softmax probabilities for the predictions on the German traffic sign images found on the web. \n",
    "### Feel free to use as many code cells as needed.\n",
    "\n",
    "with tf.Session() as sess3:\n",
    "    for sign in range(0,5):\n",
    "        top=sess3.run(tf.nn.top_k(tf.constant(predict[sign][:]), k=3))\n",
    "        print(\"The top predictions for the sign number\", \"are:\",top.indices)\n",
    "        print(\"    - with the respective probablilities of:\",top.values)\n",
    "        print(\"    => The real number is:\",y_example[sign])"
   ]
  },
  {
   "cell_type": "markdown",
   "metadata": {},
   "source": [
    "### Project Writeup\n",
    "\n",
    "Once you have completed the code implementation, document your results in a project writeup using this [template](https://github.com/udacity/CarND-Traffic-Sign-Classifier-Project/blob/master/writeup_template.md) as a guide. The writeup can be in a markdown or pdf file. "
   ]
  },
  {
   "cell_type": "markdown",
   "metadata": {},
   "source": [
    "> **Note**: Once you have completed all of the code implementations and successfully answered each question above, you may finalize your work by exporting the iPython Notebook as an HTML document. You can do this by using the menu above and navigating to  \\n\",\n",
    "    \"**File -> Download as -> HTML (.html)**. Include the finished document along with this notebook as your submission."
   ]
  },
  {
   "cell_type": "markdown",
   "metadata": {},
   "source": [
    "---\n",
    "\n",
    "## Step 4 (Optional): Visualize the Neural Network's State with Test Images\n",
    "\n",
    " This Section is not required to complete but acts as an additional excersise for understaning the output of a neural network's weights. While neural networks can be a great learning device they are often referred to as a black box. We can understand what the weights of a neural network look like better by plotting their feature maps. After successfully training your neural network you can see what it's feature maps look like by plotting the output of the network's weight layers in response to a test stimuli image. From these plotted feature maps, it's possible to see what characteristics of an image the network finds interesting. For a sign, maybe the inner network feature maps react with high activation to the sign's boundary outline or to the contrast in the sign's painted symbol.\n",
    "\n",
    " Provided for you below is the function code that allows you to get the visualization output of any tensorflow weight layer you want. The inputs to the function should be a stimuli image, one used during training or a new one you provided, and then the tensorflow variable name that represents the layer's state during the training process, for instance if you wanted to see what the [LeNet lab's](https://classroom.udacity.com/nanodegrees/nd013/parts/fbf77062-5703-404e-b60c-95b78b2f3f9e/modules/6df7ae49-c61c-4bb2-a23e-6527e69209ec/lessons/601ae704-1035-4287-8b11-e2c2716217ad/concepts/d4aca031-508f-4e0b-b493-e7b706120f81) feature maps looked like for it's second convolutional layer you could enter conv2 as the tf_activation variable.\n",
    "\n",
    "For an example of what feature map outputs look like, check out NVIDIA's results in their paper [End-to-End Deep Learning for Self-Driving Cars](https://devblogs.nvidia.com/parallelforall/deep-learning-self-driving-cars/) in the section Visualization of internal CNN State. NVIDIA was able to show that their network's inner weights had high activations to road boundary lines by comparing feature maps from an image with a clear path to one without. Try experimenting with a similar test to show that your trained network's weights are looking for interesting features, whether it's looking at differences in feature maps from images with or without a sign, or even what feature maps look like in a trained network vs a completely untrained one on the same sign image.\n",
    "\n",
    "<figure>\n",
    " <img src=\"visualize_cnn.png\" width=\"380\" alt=\"Combined Image\" />\n",
    " <figcaption>\n",
    " <p></p> \n",
    " <p style=\"text-align: center;\"> Your output should look something like this (above)</p> \n",
    " </figcaption>\n",
    "</figure>\n",
    " <p></p> \n"
   ]
  },
  {
   "cell_type": "code",
   "execution_count": 21,
   "metadata": {
    "collapsed": true
   },
   "outputs": [],
   "source": [
    "### Visualize your network's feature maps here.\n",
    "### Feel free to use as many code cells as needed.\n",
    "\n",
    "# image_input: the test image being fed into the network to produce the feature maps\n",
    "# tf_activation: should be a tf variable name used during your training procedure that represents the calculated state of a specific weight layer\n",
    "# activation_min/max: can be used to view the activation contrast in more detail, by default matplot sets min and max to the actual min and max values of the output\n",
    "# plt_num: used to plot out multiple different weight feature map sets on the same block, just extend the plt number for each new feature map entry\n",
    "\n",
    "def outputFeatureMap(image_input, tf_activation, activation_min=-1, activation_max=-1 ,plt_num=1):\n",
    "    # Here make sure to preprocess your image_input in a way your network expects\n",
    "    # with size, normalization, ect if needed\n",
    "    # image_input =\n",
    "    # Note: x should be the same name as your network's tensorflow data placeholder variable\n",
    "    # If you get an error tf_activation is not defined it may be having trouble accessing the variable from inside a function\n",
    "    activation = tf_activation.eval(session=sess,feed_dict={x : image_input})\n",
    "    featuremaps = activation.shape[3]\n",
    "    plt.figure(plt_num, figsize=(15,15))\n",
    "    for featuremap in range(featuremaps):\n",
    "        plt.subplot(6,8, featuremap+1) # sets the number of feature maps to show on each row and column\n",
    "        plt.title('FeatureMap ' + str(featuremap)) # displays the feature map number\n",
    "        if activation_min != -1 & activation_max != -1:\n",
    "            plt.imshow(activation[0,:,:, featuremap], interpolation=\"nearest\", vmin =activation_min, vmax=activation_max, cmap=\"gray\")\n",
    "        elif activation_max != -1:\n",
    "            plt.imshow(activation[0,:,:, featuremap], interpolation=\"nearest\", vmax=activation_max, cmap=\"gray\")\n",
    "        elif activation_min !=-1:\n",
    "            plt.imshow(activation[0,:,:, featuremap], interpolation=\"nearest\", vmin=activation_min, cmap=\"gray\")\n",
    "        else:\n",
    "            plt.imshow(activation[0,:,:, featuremap], interpolation=\"nearest\", cmap=\"gray\")"
   ]
  }
 ],
 "metadata": {
  "anaconda-cloud": {},
  "kernelspec": {
   "display_name": "Python 3",
   "language": "python",
   "name": "python3"
  },
  "language_info": {
   "codemirror_mode": {
    "name": "ipython",
    "version": 3
   },
   "file_extension": ".py",
   "mimetype": "text/x-python",
   "name": "python",
   "nbconvert_exporter": "python",
   "pygments_lexer": "ipython3",
   "version": "3.5.2"
  },
  "widgets": {
   "state": {},
   "version": "1.1.2"
  }
 },
 "nbformat": 4,
 "nbformat_minor": 1
}
